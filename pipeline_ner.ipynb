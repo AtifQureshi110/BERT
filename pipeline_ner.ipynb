{
  "cells": [
    {
      "cell_type": "markdown",
      "metadata": {
        "id": "view-in-github",
        "colab_type": "text"
      },
      "source": [
        "<a href=\"https://colab.research.google.com/github/AtifQureshi110/BERT/blob/main/pipeline_ner.ipynb\" target=\"_parent\"><img src=\"https://colab.research.google.com/assets/colab-badge.svg\" alt=\"Open In Colab\"/></a>"
      ]
    },
    {
      "cell_type": "markdown",
      "source": [
        "- ner_pipeline = pipeline('ner', grouped_entities=True)\n",
        "\n",
        "- The ner_pipeline is created using the command: pipeline('ner', grouped_entities=True).\n",
        "- This NER (Named Entity Recognition) pipeline is designed to identify names of persons, places, locations, and other nouns within text.\n",
        "- When the parameter grouped_entities is set to True, the pipeline groups together multi-word names like \"NEW YORK CITY\" instead of treating them as separate words. This ensures that entities are recognized correctly.\n",
        "- When grouped_entities is set to False, the pipeline would recognize the name as individual words like \"NEW\", \"YORK\", and \"CITY\".\n",
        "- This pipeline requires input text to perform the classification and identify named entities."
      ],
      "metadata": {
        "id": "HYK5vs_LgLWQ"
      }
    },
    {
      "cell_type": "markdown",
      "source": [
        "#### lib"
      ],
      "metadata": {
        "id": "v1PjG6D2Yx15"
      }
    },
    {
      "cell_type": "code",
      "execution_count": null,
      "metadata": {
        "colab": {
          "base_uri": "https://localhost:8080/"
        },
        "outputId": "d79dbeae-b11e-47e1-fb1d-cc6702bc0e72",
        "id": "7xC-gQvtbDSS"
      },
      "outputs": [
        {
          "output_type": "stream",
          "name": "stdout",
          "text": [
            "Requirement already satisfied: transformers in /usr/local/lib/python3.10/dist-packages (4.32.1)\n",
            "Requirement already satisfied: filelock in /usr/local/lib/python3.10/dist-packages (from transformers) (3.12.2)\n",
            "Requirement already satisfied: huggingface-hub<1.0,>=0.15.1 in /usr/local/lib/python3.10/dist-packages (from transformers) (0.16.4)\n",
            "Requirement already satisfied: numpy>=1.17 in /usr/local/lib/python3.10/dist-packages (from transformers) (1.23.5)\n",
            "Requirement already satisfied: packaging>=20.0 in /usr/local/lib/python3.10/dist-packages (from transformers) (23.1)\n",
            "Requirement already satisfied: pyyaml>=5.1 in /usr/local/lib/python3.10/dist-packages (from transformers) (6.0.1)\n",
            "Requirement already satisfied: regex!=2019.12.17 in /usr/local/lib/python3.10/dist-packages (from transformers) (2023.6.3)\n",
            "Requirement already satisfied: requests in /usr/local/lib/python3.10/dist-packages (from transformers) (2.31.0)\n",
            "Requirement already satisfied: tokenizers!=0.11.3,<0.14,>=0.11.1 in /usr/local/lib/python3.10/dist-packages (from transformers) (0.13.3)\n",
            "Requirement already satisfied: safetensors>=0.3.1 in /usr/local/lib/python3.10/dist-packages (from transformers) (0.3.3)\n",
            "Requirement already satisfied: tqdm>=4.27 in /usr/local/lib/python3.10/dist-packages (from transformers) (4.66.1)\n",
            "Requirement already satisfied: fsspec in /usr/local/lib/python3.10/dist-packages (from huggingface-hub<1.0,>=0.15.1->transformers) (2023.6.0)\n",
            "Requirement already satisfied: typing-extensions>=3.7.4.3 in /usr/local/lib/python3.10/dist-packages (from huggingface-hub<1.0,>=0.15.1->transformers) (4.7.1)\n",
            "Requirement already satisfied: charset-normalizer<4,>=2 in /usr/local/lib/python3.10/dist-packages (from requests->transformers) (3.2.0)\n",
            "Requirement already satisfied: idna<4,>=2.5 in /usr/local/lib/python3.10/dist-packages (from requests->transformers) (3.4)\n",
            "Requirement already satisfied: urllib3<3,>=1.21.1 in /usr/local/lib/python3.10/dist-packages (from requests->transformers) (2.0.4)\n",
            "Requirement already satisfied: certifi>=2017.4.17 in /usr/local/lib/python3.10/dist-packages (from requests->transformers) (2023.7.22)\n"
          ]
        }
      ],
      "source": [
        "!pip install transformers"
      ]
    },
    {
      "cell_type": "code",
      "source": [
        "from transformers import pipeline"
      ],
      "metadata": {
        "id": "LYPAm-nUbDSV"
      },
      "execution_count": null,
      "outputs": []
    },
    {
      "cell_type": "code",
      "source": [
        "# Actvation of NER pipeline\n",
        "ner_pipeline = pipeline('ner', grouped_entities=True)"
      ],
      "metadata": {
        "colab": {
          "base_uri": "https://localhost:8080/"
        },
        "outputId": "35b0f981-4b61-4023-b835-02b38e190dcb",
        "id": "Au82oL1xbDSY"
      },
      "execution_count": null,
      "outputs": [
        {
          "output_type": "stream",
          "name": "stderr",
          "text": [
            "No model was supplied, defaulted to dbmdz/bert-large-cased-finetuned-conll03-english and revision f2482bf (https://huggingface.co/dbmdz/bert-large-cased-finetuned-conll03-english).\n",
            "Using a pipeline without specifying a model name and revision in production is not recommended.\n"
          ]
        }
      ]
    },
    {
      "cell_type": "markdown",
      "source": [
        "### basic understanding purpose"
      ],
      "metadata": {
        "id": "ZAAamFcxwIpr"
      }
    },
    {
      "cell_type": "code",
      "source": [
        "input = \"Embark on an adventure with Sarah and her trusty camera, capturing breathtaking USA landscapes she likes work in NASA.\"\n",
        "detection = ner_pipeline(input)"
      ],
      "metadata": {
        "id": "BNPt5Kx9bDSc"
      },
      "execution_count": null,
      "outputs": []
    },
    {
      "cell_type": "code",
      "source": [
        "detection"
      ],
      "metadata": {
        "colab": {
          "base_uri": "https://localhost:8080/"
        },
        "id": "fAO6QSUDLTMW",
        "outputId": "dc992b1c-a9ab-42af-d835-296e62a9537b"
      },
      "execution_count": null,
      "outputs": [
        {
          "output_type": "execute_result",
          "data": {
            "text/plain": [
              "[{'entity_group': 'PER',\n",
              "  'score': 0.9947277,\n",
              "  'word': 'Sarah',\n",
              "  'start': 28,\n",
              "  'end': 33},\n",
              " {'entity_group': 'LOC',\n",
              "  'score': 0.99928904,\n",
              "  'word': 'USA',\n",
              "  'start': 80,\n",
              "  'end': 83},\n",
              " {'entity_group': 'ORG',\n",
              "  'score': 0.9953433,\n",
              "  'word': 'NASA',\n",
              "  'start': 113,\n",
              "  'end': 117}]"
            ]
          },
          "metadata": {},
          "execution_count": 180
        }
      ]
    },
    {
      "cell_type": "code",
      "source": [
        "# for understanding purpose\n",
        "info = []\n",
        "for i in detection:\n",
        "  info.append((i[\"entity_group\"], i[\"word\"]))\n",
        "info"
      ],
      "metadata": {
        "id": "J2jvbbfQIf8I",
        "outputId": "d6dce7be-0e59-47a7-fefb-21d80783d6d6",
        "colab": {
          "base_uri": "https://localhost:8080/"
        }
      },
      "execution_count": null,
      "outputs": [
        {
          "output_type": "execute_result",
          "data": {
            "text/plain": [
              "[('PER', 'Sarah'), ('LOC', 'USA'), ('ORG', 'NASA')]"
            ]
          },
          "metadata": {},
          "execution_count": 181
        }
      ]
    },
    {
      "cell_type": "code",
      "source": [
        "entity_words_info = [([i['entity_group'],i['word']]) for i in detection]\n",
        "entity_words_info"
      ],
      "metadata": {
        "id": "hyJRJHBJIx2p",
        "outputId": "c1c63573-184f-423d-9744-0ea308c18c28",
        "colab": {
          "base_uri": "https://localhost:8080/"
        }
      },
      "execution_count": null,
      "outputs": [
        {
          "output_type": "execute_result",
          "data": {
            "text/plain": [
              "[['PER', 'Sarah'], ['LOC', 'USA'], ['ORG', 'NASA']]"
            ]
          },
          "metadata": {},
          "execution_count": 182
        }
      ]
    },
    {
      "cell_type": "code",
      "source": [
        "entity_data = [f\"{entry[0]}: {entry[1]}\" for entry in entity_info]\n",
        "ner_df = pd.DataFrame({\"text\": [input_text], \"entity_data\": [\", \".join(entity_data)]})\n",
        "ner_df"
      ],
      "metadata": {
        "id": "M-PZMnrLI2gX",
        "outputId": "823bcd81-6fa5-4b21-d4e0-3d669f422f63",
        "colab": {
          "base_uri": "https://localhost:8080/",
          "height": 161
        }
      },
      "execution_count": null,
      "outputs": [
        {
          "output_type": "execute_result",
          "data": {
            "text/plain": [
              "                                                text  \\\n",
              "0  Embark on an adventure with Sarah and her trus...   \n",
              "\n",
              "                       entity_data  \n",
              "0  PER: Sarah, LOC: USA, ORG: NASA  "
            ],
            "text/html": [
              "\n",
              "  <div id=\"df-23aa51cc-0c95-4a52-b7d5-1cee01a74c95\" class=\"colab-df-container\">\n",
              "    <div>\n",
              "<style scoped>\n",
              "    .dataframe tbody tr th:only-of-type {\n",
              "        vertical-align: middle;\n",
              "    }\n",
              "\n",
              "    .dataframe tbody tr th {\n",
              "        vertical-align: top;\n",
              "    }\n",
              "\n",
              "    .dataframe thead th {\n",
              "        text-align: right;\n",
              "    }\n",
              "</style>\n",
              "<table border=\"1\" class=\"dataframe\">\n",
              "  <thead>\n",
              "    <tr style=\"text-align: right;\">\n",
              "      <th></th>\n",
              "      <th>text</th>\n",
              "      <th>entity_data</th>\n",
              "    </tr>\n",
              "  </thead>\n",
              "  <tbody>\n",
              "    <tr>\n",
              "      <th>0</th>\n",
              "      <td>Embark on an adventure with Sarah and her trus...</td>\n",
              "      <td>PER: Sarah, LOC: USA, ORG: NASA</td>\n",
              "    </tr>\n",
              "  </tbody>\n",
              "</table>\n",
              "</div>\n",
              "    <div class=\"colab-df-buttons\">\n",
              "\n",
              "  <div class=\"colab-df-container\">\n",
              "    <button class=\"colab-df-convert\" onclick=\"convertToInteractive('df-23aa51cc-0c95-4a52-b7d5-1cee01a74c95')\"\n",
              "            title=\"Convert this dataframe to an interactive table.\"\n",
              "            style=\"display:none;\">\n",
              "\n",
              "  <svg xmlns=\"http://www.w3.org/2000/svg\" height=\"24px\" viewBox=\"0 -960 960 960\">\n",
              "    <path d=\"M120-120v-720h720v720H120Zm60-500h600v-160H180v160Zm220 220h160v-160H400v160Zm0 220h160v-160H400v160ZM180-400h160v-160H180v160Zm440 0h160v-160H620v160ZM180-180h160v-160H180v160Zm440 0h160v-160H620v160Z\"/>\n",
              "  </svg>\n",
              "    </button>\n",
              "\n",
              "  <style>\n",
              "    .colab-df-container {\n",
              "      display:flex;\n",
              "      gap: 12px;\n",
              "    }\n",
              "\n",
              "    .colab-df-convert {\n",
              "      background-color: #E8F0FE;\n",
              "      border: none;\n",
              "      border-radius: 50%;\n",
              "      cursor: pointer;\n",
              "      display: none;\n",
              "      fill: #1967D2;\n",
              "      height: 32px;\n",
              "      padding: 0 0 0 0;\n",
              "      width: 32px;\n",
              "    }\n",
              "\n",
              "    .colab-df-convert:hover {\n",
              "      background-color: #E2EBFA;\n",
              "      box-shadow: 0px 1px 2px rgba(60, 64, 67, 0.3), 0px 1px 3px 1px rgba(60, 64, 67, 0.15);\n",
              "      fill: #174EA6;\n",
              "    }\n",
              "\n",
              "    .colab-df-buttons div {\n",
              "      margin-bottom: 4px;\n",
              "    }\n",
              "\n",
              "    [theme=dark] .colab-df-convert {\n",
              "      background-color: #3B4455;\n",
              "      fill: #D2E3FC;\n",
              "    }\n",
              "\n",
              "    [theme=dark] .colab-df-convert:hover {\n",
              "      background-color: #434B5C;\n",
              "      box-shadow: 0px 1px 3px 1px rgba(0, 0, 0, 0.15);\n",
              "      filter: drop-shadow(0px 1px 2px rgba(0, 0, 0, 0.3));\n",
              "      fill: #FFFFFF;\n",
              "    }\n",
              "  </style>\n",
              "\n",
              "    <script>\n",
              "      const buttonEl =\n",
              "        document.querySelector('#df-23aa51cc-0c95-4a52-b7d5-1cee01a74c95 button.colab-df-convert');\n",
              "      buttonEl.style.display =\n",
              "        google.colab.kernel.accessAllowed ? 'block' : 'none';\n",
              "\n",
              "      async function convertToInteractive(key) {\n",
              "        const element = document.querySelector('#df-23aa51cc-0c95-4a52-b7d5-1cee01a74c95');\n",
              "        const dataTable =\n",
              "          await google.colab.kernel.invokeFunction('convertToInteractive',\n",
              "                                                    [key], {});\n",
              "        if (!dataTable) return;\n",
              "\n",
              "        const docLinkHtml = 'Like what you see? Visit the ' +\n",
              "          '<a target=\"_blank\" href=https://colab.research.google.com/notebooks/data_table.ipynb>data table notebook</a>'\n",
              "          + ' to learn more about interactive tables.';\n",
              "        element.innerHTML = '';\n",
              "        dataTable['output_type'] = 'display_data';\n",
              "        await google.colab.output.renderOutput(dataTable, element);\n",
              "        const docLink = document.createElement('div');\n",
              "        docLink.innerHTML = docLinkHtml;\n",
              "        element.appendChild(docLink);\n",
              "      }\n",
              "    </script>\n",
              "  </div>\n",
              "\n",
              "    </div>\n",
              "  </div>\n"
            ]
          },
          "metadata": {},
          "execution_count": 183
        }
      ]
    },
    {
      "cell_type": "markdown",
      "source": [
        "#### data list with in a list"
      ],
      "metadata": {
        "id": "sMw4hWnCvw31"
      }
    },
    {
      "cell_type": "code",
      "source": [
        "# for understanding purpose\n",
        "info = []\n",
        "for i in detection:\n",
        "  info.append((i[\"entity_group\"], i[\"word\"]))\n",
        "info"
      ],
      "metadata": {
        "colab": {
          "base_uri": "https://localhost:8080/"
        },
        "outputId": "1ecdab83-2fb7-4b4a-ee90-3124cb60e0ba",
        "id": "XyjvlmrhbDSo"
      },
      "execution_count": null,
      "outputs": [
        {
          "output_type": "execute_result",
          "data": {
            "text/plain": [
              "[('PER', 'Sarah'), ('LOC', 'USA'), ('ORG', 'NASA')]"
            ]
          },
          "metadata": {},
          "execution_count": 68
        }
      ]
    },
    {
      "cell_type": "code",
      "source": [
        "entity_words_info = [([i['entity_group'],i['word']]) for i in detection]\n",
        "entity_words_info"
      ],
      "metadata": {
        "id": "2VpOwUWFsxBQ",
        "outputId": "9bfd0a0d-1e06-4941-91b2-985c19ccb607",
        "colab": {
          "base_uri": "https://localhost:8080/"
        }
      },
      "execution_count": null,
      "outputs": [
        {
          "output_type": "execute_result",
          "data": {
            "text/plain": [
              "[['PER', 'Sarah'], ['LOC', 'USA'], ['ORG', 'NASA']]"
            ]
          },
          "metadata": {},
          "execution_count": 69
        }
      ]
    },
    {
      "cell_type": "code",
      "source": [
        "entity_data = [f\"{entry[0]}: {entry[1]}\" for entry in entity_info]\n",
        "ner_df = pd.DataFrame({\"text\": [input_text], \"entity_data\": [\", \".join(entity_data)]})\n",
        "ner_df\n"
      ],
      "metadata": {
        "id": "kXoBMjNvvXF9",
        "outputId": "2b6f1a48-80b1-4cda-ef18-2d10b75f731a",
        "colab": {
          "base_uri": "https://localhost:8080/",
          "height": 161
        }
      },
      "execution_count": null,
      "outputs": [
        {
          "output_type": "execute_result",
          "data": {
            "text/plain": [
              "                                                text  \\\n",
              "0  Embark on an adventure with Sarah and her trus...   \n",
              "\n",
              "                       entity_data  \n",
              "0  PER: Sarah, LOC: USA, ORG: NASA  "
            ],
            "text/html": [
              "\n",
              "  <div id=\"df-aae20ec2-8e66-4152-bc2f-062814ab8593\" class=\"colab-df-container\">\n",
              "    <div>\n",
              "<style scoped>\n",
              "    .dataframe tbody tr th:only-of-type {\n",
              "        vertical-align: middle;\n",
              "    }\n",
              "\n",
              "    .dataframe tbody tr th {\n",
              "        vertical-align: top;\n",
              "    }\n",
              "\n",
              "    .dataframe thead th {\n",
              "        text-align: right;\n",
              "    }\n",
              "</style>\n",
              "<table border=\"1\" class=\"dataframe\">\n",
              "  <thead>\n",
              "    <tr style=\"text-align: right;\">\n",
              "      <th></th>\n",
              "      <th>text</th>\n",
              "      <th>entity_data</th>\n",
              "    </tr>\n",
              "  </thead>\n",
              "  <tbody>\n",
              "    <tr>\n",
              "      <th>0</th>\n",
              "      <td>Embark on an adventure with Sarah and her trus...</td>\n",
              "      <td>PER: Sarah, LOC: USA, ORG: NASA</td>\n",
              "    </tr>\n",
              "  </tbody>\n",
              "</table>\n",
              "</div>\n",
              "    <div class=\"colab-df-buttons\">\n",
              "\n",
              "  <div class=\"colab-df-container\">\n",
              "    <button class=\"colab-df-convert\" onclick=\"convertToInteractive('df-aae20ec2-8e66-4152-bc2f-062814ab8593')\"\n",
              "            title=\"Convert this dataframe to an interactive table.\"\n",
              "            style=\"display:none;\">\n",
              "\n",
              "  <svg xmlns=\"http://www.w3.org/2000/svg\" height=\"24px\" viewBox=\"0 -960 960 960\">\n",
              "    <path d=\"M120-120v-720h720v720H120Zm60-500h600v-160H180v160Zm220 220h160v-160H400v160Zm0 220h160v-160H400v160ZM180-400h160v-160H180v160Zm440 0h160v-160H620v160ZM180-180h160v-160H180v160Zm440 0h160v-160H620v160Z\"/>\n",
              "  </svg>\n",
              "    </button>\n",
              "\n",
              "  <style>\n",
              "    .colab-df-container {\n",
              "      display:flex;\n",
              "      gap: 12px;\n",
              "    }\n",
              "\n",
              "    .colab-df-convert {\n",
              "      background-color: #E8F0FE;\n",
              "      border: none;\n",
              "      border-radius: 50%;\n",
              "      cursor: pointer;\n",
              "      display: none;\n",
              "      fill: #1967D2;\n",
              "      height: 32px;\n",
              "      padding: 0 0 0 0;\n",
              "      width: 32px;\n",
              "    }\n",
              "\n",
              "    .colab-df-convert:hover {\n",
              "      background-color: #E2EBFA;\n",
              "      box-shadow: 0px 1px 2px rgba(60, 64, 67, 0.3), 0px 1px 3px 1px rgba(60, 64, 67, 0.15);\n",
              "      fill: #174EA6;\n",
              "    }\n",
              "\n",
              "    .colab-df-buttons div {\n",
              "      margin-bottom: 4px;\n",
              "    }\n",
              "\n",
              "    [theme=dark] .colab-df-convert {\n",
              "      background-color: #3B4455;\n",
              "      fill: #D2E3FC;\n",
              "    }\n",
              "\n",
              "    [theme=dark] .colab-df-convert:hover {\n",
              "      background-color: #434B5C;\n",
              "      box-shadow: 0px 1px 3px 1px rgba(0, 0, 0, 0.15);\n",
              "      filter: drop-shadow(0px 1px 2px rgba(0, 0, 0, 0.3));\n",
              "      fill: #FFFFFF;\n",
              "    }\n",
              "  </style>\n",
              "\n",
              "    <script>\n",
              "      const buttonEl =\n",
              "        document.querySelector('#df-aae20ec2-8e66-4152-bc2f-062814ab8593 button.colab-df-convert');\n",
              "      buttonEl.style.display =\n",
              "        google.colab.kernel.accessAllowed ? 'block' : 'none';\n",
              "\n",
              "      async function convertToInteractive(key) {\n",
              "        const element = document.querySelector('#df-aae20ec2-8e66-4152-bc2f-062814ab8593');\n",
              "        const dataTable =\n",
              "          await google.colab.kernel.invokeFunction('convertToInteractive',\n",
              "                                                    [key], {});\n",
              "        if (!dataTable) return;\n",
              "\n",
              "        const docLinkHtml = 'Like what you see? Visit the ' +\n",
              "          '<a target=\"_blank\" href=https://colab.research.google.com/notebooks/data_table.ipynb>data table notebook</a>'\n",
              "          + ' to learn more about interactive tables.';\n",
              "        element.innerHTML = '';\n",
              "        dataTable['output_type'] = 'display_data';\n",
              "        await google.colab.output.renderOutput(dataTable, element);\n",
              "        const docLink = document.createElement('div');\n",
              "        docLink.innerHTML = docLinkHtml;\n",
              "        element.appendChild(docLink);\n",
              "      }\n",
              "    </script>\n",
              "  </div>\n",
              "\n",
              "    </div>\n",
              "  </div>\n"
            ]
          },
          "metadata": {},
          "execution_count": 78
        }
      ]
    },
    {
      "cell_type": "markdown",
      "source": [
        "#### data in a list"
      ],
      "metadata": {
        "id": "Pjt2U5fRv7do"
      }
    },
    {
      "cell_type": "code",
      "source": [
        "ner = []\n",
        "for i in info:\n",
        "  ner.append(i[1])\n",
        "ner"
      ],
      "metadata": {
        "id": "02q_wP4xpuET",
        "outputId": "45cbce4f-6cf0-4443-b6e9-1ccc934f4a11",
        "colab": {
          "base_uri": "https://localhost:8080/"
        }
      },
      "execution_count": null,
      "outputs": [
        {
          "output_type": "execute_result",
          "data": {
            "text/plain": [
              "['Sarah', 'USA', 'NASA']"
            ]
          },
          "metadata": {},
          "execution_count": 70
        }
      ]
    },
    {
      "cell_type": "code",
      "source": [
        "entity_words = [i[1] for i in info]\n",
        "entity_words"
      ],
      "metadata": {
        "id": "L67Bajq3shjm",
        "outputId": "d6d6711d-304c-4cb2-b527-0b3942a8f1a8",
        "colab": {
          "base_uri": "https://localhost:8080/"
        }
      },
      "execution_count": null,
      "outputs": [
        {
          "output_type": "execute_result",
          "data": {
            "text/plain": [
              "['Sarah', 'USA', 'NASA']"
            ]
          },
          "metadata": {},
          "execution_count": 71
        }
      ]
    },
    {
      "cell_type": "code",
      "source": [
        "import pandas as pd\n",
        "ner_df = pd.DataFrame({\"text\":[input], \"entity_words\":[\", \".join(ner)]})\n",
        "ner_df"
      ],
      "metadata": {
        "colab": {
          "base_uri": "https://localhost:8080/",
          "height": 81
        },
        "outputId": "fdb5968c-9702-4665-ccaf-71f22d440ccc",
        "id": "dYHkilpIbDSy"
      },
      "execution_count": null,
      "outputs": [
        {
          "output_type": "execute_result",
          "data": {
            "text/plain": [
              "                                                text      entity_words\n",
              "0  Embark on an adventure with Sarah and her trus...  Sarah, USA, NASA"
            ],
            "text/html": [
              "\n",
              "  <div id=\"df-19d875f4-ceb2-41f0-9717-09862188b2b6\" class=\"colab-df-container\">\n",
              "    <div>\n",
              "<style scoped>\n",
              "    .dataframe tbody tr th:only-of-type {\n",
              "        vertical-align: middle;\n",
              "    }\n",
              "\n",
              "    .dataframe tbody tr th {\n",
              "        vertical-align: top;\n",
              "    }\n",
              "\n",
              "    .dataframe thead th {\n",
              "        text-align: right;\n",
              "    }\n",
              "</style>\n",
              "<table border=\"1\" class=\"dataframe\">\n",
              "  <thead>\n",
              "    <tr style=\"text-align: right;\">\n",
              "      <th></th>\n",
              "      <th>text</th>\n",
              "      <th>entity_words</th>\n",
              "    </tr>\n",
              "  </thead>\n",
              "  <tbody>\n",
              "    <tr>\n",
              "      <th>0</th>\n",
              "      <td>Embark on an adventure with Sarah and her trus...</td>\n",
              "      <td>Sarah, USA, NASA</td>\n",
              "    </tr>\n",
              "  </tbody>\n",
              "</table>\n",
              "</div>\n",
              "    <div class=\"colab-df-buttons\">\n",
              "\n",
              "  <div class=\"colab-df-container\">\n",
              "    <button class=\"colab-df-convert\" onclick=\"convertToInteractive('df-19d875f4-ceb2-41f0-9717-09862188b2b6')\"\n",
              "            title=\"Convert this dataframe to an interactive table.\"\n",
              "            style=\"display:none;\">\n",
              "\n",
              "  <svg xmlns=\"http://www.w3.org/2000/svg\" height=\"24px\" viewBox=\"0 -960 960 960\">\n",
              "    <path d=\"M120-120v-720h720v720H120Zm60-500h600v-160H180v160Zm220 220h160v-160H400v160Zm0 220h160v-160H400v160ZM180-400h160v-160H180v160Zm440 0h160v-160H620v160ZM180-180h160v-160H180v160Zm440 0h160v-160H620v160Z\"/>\n",
              "  </svg>\n",
              "    </button>\n",
              "\n",
              "  <style>\n",
              "    .colab-df-container {\n",
              "      display:flex;\n",
              "      gap: 12px;\n",
              "    }\n",
              "\n",
              "    .colab-df-convert {\n",
              "      background-color: #E8F0FE;\n",
              "      border: none;\n",
              "      border-radius: 50%;\n",
              "      cursor: pointer;\n",
              "      display: none;\n",
              "      fill: #1967D2;\n",
              "      height: 32px;\n",
              "      padding: 0 0 0 0;\n",
              "      width: 32px;\n",
              "    }\n",
              "\n",
              "    .colab-df-convert:hover {\n",
              "      background-color: #E2EBFA;\n",
              "      box-shadow: 0px 1px 2px rgba(60, 64, 67, 0.3), 0px 1px 3px 1px rgba(60, 64, 67, 0.15);\n",
              "      fill: #174EA6;\n",
              "    }\n",
              "\n",
              "    .colab-df-buttons div {\n",
              "      margin-bottom: 4px;\n",
              "    }\n",
              "\n",
              "    [theme=dark] .colab-df-convert {\n",
              "      background-color: #3B4455;\n",
              "      fill: #D2E3FC;\n",
              "    }\n",
              "\n",
              "    [theme=dark] .colab-df-convert:hover {\n",
              "      background-color: #434B5C;\n",
              "      box-shadow: 0px 1px 3px 1px rgba(0, 0, 0, 0.15);\n",
              "      filter: drop-shadow(0px 1px 2px rgba(0, 0, 0, 0.3));\n",
              "      fill: #FFFFFF;\n",
              "    }\n",
              "  </style>\n",
              "\n",
              "    <script>\n",
              "      const buttonEl =\n",
              "        document.querySelector('#df-19d875f4-ceb2-41f0-9717-09862188b2b6 button.colab-df-convert');\n",
              "      buttonEl.style.display =\n",
              "        google.colab.kernel.accessAllowed ? 'block' : 'none';\n",
              "\n",
              "      async function convertToInteractive(key) {\n",
              "        const element = document.querySelector('#df-19d875f4-ceb2-41f0-9717-09862188b2b6');\n",
              "        const dataTable =\n",
              "          await google.colab.kernel.invokeFunction('convertToInteractive',\n",
              "                                                    [key], {});\n",
              "        if (!dataTable) return;\n",
              "\n",
              "        const docLinkHtml = 'Like what you see? Visit the ' +\n",
              "          '<a target=\"_blank\" href=https://colab.research.google.com/notebooks/data_table.ipynb>data table notebook</a>'\n",
              "          + ' to learn more about interactive tables.';\n",
              "        element.innerHTML = '';\n",
              "        dataTable['output_type'] = 'display_data';\n",
              "        await google.colab.output.renderOutput(dataTable, element);\n",
              "        const docLink = document.createElement('div');\n",
              "        docLink.innerHTML = docLinkHtml;\n",
              "        element.appendChild(docLink);\n",
              "      }\n",
              "    </script>\n",
              "  </div>\n",
              "\n",
              "    </div>\n",
              "  </div>\n"
            ]
          },
          "metadata": {},
          "execution_count": 67
        }
      ]
    },
    {
      "cell_type": "markdown",
      "source": [
        "#### data"
      ],
      "metadata": {
        "id": "3KncifH2wDYH"
      }
    },
    {
      "cell_type": "code",
      "source": [
        "import pandas as pd\n",
        "\n",
        "entity_info = [['PER', 'Sarah'], ['LOC', 'USA'], ['ORG', 'NASA']]\n",
        "entity_words = [entry[1] for entry in entity_info]\n",
        "\n",
        "ner_df = pd.DataFrame({\"text\": [input_text], \"entity_words\": [\", \".join(entity_words)]})\n",
        "ner_df\n"
      ],
      "metadata": {
        "id": "HkzRUhanuctO"
      },
      "execution_count": null,
      "outputs": []
    },
    {
      "cell_type": "code",
      "source": [],
      "metadata": {
        "id": "0G7xmEzWuzlr"
      },
      "execution_count": null,
      "outputs": []
    },
    {
      "cell_type": "code",
      "source": [
        "detection = [{'entity_group': 'PER', 'score': 0.9947277, 'word': 'Sarah', 'start': 28, 'end': 33},\n",
        " {'entity_group': 'LOC', 'score': 0.99928904, 'word': 'USA', 'start': 80, 'end': 83},\n",
        " {'entity_group': 'ORG', 'score': 0.9953433, 'word': 'NASA', 'start': 113, 'end': 117}]\n",
        "\n",
        "entity_words = [entry[\"word\"] for entry in detection]\n",
        "\n",
        "ner_df = pd.DataFrame({\"Entity Words\": [\", \".join(entity_words)]})\n",
        "ner_df\n"
      ],
      "metadata": {
        "id": "0M8q81kQrpLx",
        "outputId": "6f1c37bc-9658-43a9-db22-48d15ba0e75d",
        "colab": {
          "base_uri": "https://localhost:8080/"
        }
      },
      "execution_count": null,
      "outputs": [
        {
          "output_type": "execute_result",
          "data": {
            "text/plain": [
              "       Entity Words\n",
              "0  Sarah, USA, NASA"
            ],
            "text/html": [
              "\n",
              "  <div id=\"df-d8530aae-f36e-4f08-9582-e3039da59810\" class=\"colab-df-container\">\n",
              "    <div>\n",
              "<style scoped>\n",
              "    .dataframe tbody tr th:only-of-type {\n",
              "        vertical-align: middle;\n",
              "    }\n",
              "\n",
              "    .dataframe tbody tr th {\n",
              "        vertical-align: top;\n",
              "    }\n",
              "\n",
              "    .dataframe thead th {\n",
              "        text-align: right;\n",
              "    }\n",
              "</style>\n",
              "<table border=\"1\" class=\"dataframe\">\n",
              "  <thead>\n",
              "    <tr style=\"text-align: right;\">\n",
              "      <th></th>\n",
              "      <th>Entity Words</th>\n",
              "    </tr>\n",
              "  </thead>\n",
              "  <tbody>\n",
              "    <tr>\n",
              "      <th>0</th>\n",
              "      <td>Sarah, USA, NASA</td>\n",
              "    </tr>\n",
              "  </tbody>\n",
              "</table>\n",
              "</div>\n",
              "    <div class=\"colab-df-buttons\">\n",
              "\n",
              "  <div class=\"colab-df-container\">\n",
              "    <button class=\"colab-df-convert\" onclick=\"convertToInteractive('df-d8530aae-f36e-4f08-9582-e3039da59810')\"\n",
              "            title=\"Convert this dataframe to an interactive table.\"\n",
              "            style=\"display:none;\">\n",
              "\n",
              "  <svg xmlns=\"http://www.w3.org/2000/svg\" height=\"24px\" viewBox=\"0 -960 960 960\">\n",
              "    <path d=\"M120-120v-720h720v720H120Zm60-500h600v-160H180v160Zm220 220h160v-160H400v160Zm0 220h160v-160H400v160ZM180-400h160v-160H180v160Zm440 0h160v-160H620v160ZM180-180h160v-160H180v160Zm440 0h160v-160H620v160Z\"/>\n",
              "  </svg>\n",
              "    </button>\n",
              "\n",
              "  <style>\n",
              "    .colab-df-container {\n",
              "      display:flex;\n",
              "      gap: 12px;\n",
              "    }\n",
              "\n",
              "    .colab-df-convert {\n",
              "      background-color: #E8F0FE;\n",
              "      border: none;\n",
              "      border-radius: 50%;\n",
              "      cursor: pointer;\n",
              "      display: none;\n",
              "      fill: #1967D2;\n",
              "      height: 32px;\n",
              "      padding: 0 0 0 0;\n",
              "      width: 32px;\n",
              "    }\n",
              "\n",
              "    .colab-df-convert:hover {\n",
              "      background-color: #E2EBFA;\n",
              "      box-shadow: 0px 1px 2px rgba(60, 64, 67, 0.3), 0px 1px 3px 1px rgba(60, 64, 67, 0.15);\n",
              "      fill: #174EA6;\n",
              "    }\n",
              "\n",
              "    .colab-df-buttons div {\n",
              "      margin-bottom: 4px;\n",
              "    }\n",
              "\n",
              "    [theme=dark] .colab-df-convert {\n",
              "      background-color: #3B4455;\n",
              "      fill: #D2E3FC;\n",
              "    }\n",
              "\n",
              "    [theme=dark] .colab-df-convert:hover {\n",
              "      background-color: #434B5C;\n",
              "      box-shadow: 0px 1px 3px 1px rgba(0, 0, 0, 0.15);\n",
              "      filter: drop-shadow(0px 1px 2px rgba(0, 0, 0, 0.3));\n",
              "      fill: #FFFFFF;\n",
              "    }\n",
              "  </style>\n",
              "\n",
              "    <script>\n",
              "      const buttonEl =\n",
              "        document.querySelector('#df-d8530aae-f36e-4f08-9582-e3039da59810 button.colab-df-convert');\n",
              "      buttonEl.style.display =\n",
              "        google.colab.kernel.accessAllowed ? 'block' : 'none';\n",
              "\n",
              "      async function convertToInteractive(key) {\n",
              "        const element = document.querySelector('#df-d8530aae-f36e-4f08-9582-e3039da59810');\n",
              "        const dataTable =\n",
              "          await google.colab.kernel.invokeFunction('convertToInteractive',\n",
              "                                                    [key], {});\n",
              "        if (!dataTable) return;\n",
              "\n",
              "        const docLinkHtml = 'Like what you see? Visit the ' +\n",
              "          '<a target=\"_blank\" href=https://colab.research.google.com/notebooks/data_table.ipynb>data table notebook</a>'\n",
              "          + ' to learn more about interactive tables.';\n",
              "        element.innerHTML = '';\n",
              "        dataTable['output_type'] = 'display_data';\n",
              "        await google.colab.output.renderOutput(dataTable, element);\n",
              "        const docLink = document.createElement('div');\n",
              "        docLink.innerHTML = docLinkHtml;\n",
              "        element.appendChild(docLink);\n",
              "      }\n",
              "    </script>\n",
              "  </div>\n",
              "\n",
              "    </div>\n",
              "  </div>\n"
            ]
          },
          "metadata": {},
          "execution_count": 49
        }
      ]
    },
    {
      "cell_type": "code",
      "source": [
        "detection = [{'entity_group': 'PER', 'score': 0.9947277, 'word': 'Sarah', 'start': 28, 'end': 33},\n",
        " {'entity_group': 'LOC', 'score': 0.99928904, 'word': 'USA', 'start': 80, 'end': 83},\n",
        " {'entity_group': 'ORG', 'score': 0.9953433, 'word': 'NASA', 'start': 113, 'end': 117}]\n",
        "\n",
        "info = []\n",
        "for i in detection:\n",
        "    info.append((i[\"entity_group\"], i[\"word\"]))\n",
        "\n",
        "input_text = \"Embark on an adventure with Sarah and her trusty camera, capturing breathtaking USA landscapes she likes work in NASA.\"\n",
        "\n",
        "ner_df = pd.DataFrame({\"text\": [input_text] * len(info), \"ner\": info})\n",
        "ner_df\n"
      ],
      "metadata": {
        "id": "BHSSS5Ton5sQ",
        "outputId": "38e0caeb-bb36-4904-a46c-c0dd264284e5",
        "colab": {
          "base_uri": "https://localhost:8080/"
        }
      },
      "execution_count": null,
      "outputs": [
        {
          "output_type": "execute_result",
          "data": {
            "text/plain": [
              "                                                text           ner\n",
              "0  Embark on an adventure with Sarah and her trus...  (PER, Sarah)\n",
              "1  Embark on an adventure with Sarah and her trus...    (LOC, USA)\n",
              "2  Embark on an adventure with Sarah and her trus...   (ORG, NASA)"
            ],
            "text/html": [
              "\n",
              "  <div id=\"df-24ed51ca-dac1-4b42-9b9b-ccd7a5736058\" class=\"colab-df-container\">\n",
              "    <div>\n",
              "<style scoped>\n",
              "    .dataframe tbody tr th:only-of-type {\n",
              "        vertical-align: middle;\n",
              "    }\n",
              "\n",
              "    .dataframe tbody tr th {\n",
              "        vertical-align: top;\n",
              "    }\n",
              "\n",
              "    .dataframe thead th {\n",
              "        text-align: right;\n",
              "    }\n",
              "</style>\n",
              "<table border=\"1\" class=\"dataframe\">\n",
              "  <thead>\n",
              "    <tr style=\"text-align: right;\">\n",
              "      <th></th>\n",
              "      <th>text</th>\n",
              "      <th>ner</th>\n",
              "    </tr>\n",
              "  </thead>\n",
              "  <tbody>\n",
              "    <tr>\n",
              "      <th>0</th>\n",
              "      <td>Embark on an adventure with Sarah and her trus...</td>\n",
              "      <td>(PER, Sarah)</td>\n",
              "    </tr>\n",
              "    <tr>\n",
              "      <th>1</th>\n",
              "      <td>Embark on an adventure with Sarah and her trus...</td>\n",
              "      <td>(LOC, USA)</td>\n",
              "    </tr>\n",
              "    <tr>\n",
              "      <th>2</th>\n",
              "      <td>Embark on an adventure with Sarah and her trus...</td>\n",
              "      <td>(ORG, NASA)</td>\n",
              "    </tr>\n",
              "  </tbody>\n",
              "</table>\n",
              "</div>\n",
              "    <div class=\"colab-df-buttons\">\n",
              "\n",
              "  <div class=\"colab-df-container\">\n",
              "    <button class=\"colab-df-convert\" onclick=\"convertToInteractive('df-24ed51ca-dac1-4b42-9b9b-ccd7a5736058')\"\n",
              "            title=\"Convert this dataframe to an interactive table.\"\n",
              "            style=\"display:none;\">\n",
              "\n",
              "  <svg xmlns=\"http://www.w3.org/2000/svg\" height=\"24px\" viewBox=\"0 -960 960 960\">\n",
              "    <path d=\"M120-120v-720h720v720H120Zm60-500h600v-160H180v160Zm220 220h160v-160H400v160Zm0 220h160v-160H400v160ZM180-400h160v-160H180v160Zm440 0h160v-160H620v160ZM180-180h160v-160H180v160Zm440 0h160v-160H620v160Z\"/>\n",
              "  </svg>\n",
              "    </button>\n",
              "\n",
              "  <style>\n",
              "    .colab-df-container {\n",
              "      display:flex;\n",
              "      gap: 12px;\n",
              "    }\n",
              "\n",
              "    .colab-df-convert {\n",
              "      background-color: #E8F0FE;\n",
              "      border: none;\n",
              "      border-radius: 50%;\n",
              "      cursor: pointer;\n",
              "      display: none;\n",
              "      fill: #1967D2;\n",
              "      height: 32px;\n",
              "      padding: 0 0 0 0;\n",
              "      width: 32px;\n",
              "    }\n",
              "\n",
              "    .colab-df-convert:hover {\n",
              "      background-color: #E2EBFA;\n",
              "      box-shadow: 0px 1px 2px rgba(60, 64, 67, 0.3), 0px 1px 3px 1px rgba(60, 64, 67, 0.15);\n",
              "      fill: #174EA6;\n",
              "    }\n",
              "\n",
              "    .colab-df-buttons div {\n",
              "      margin-bottom: 4px;\n",
              "    }\n",
              "\n",
              "    [theme=dark] .colab-df-convert {\n",
              "      background-color: #3B4455;\n",
              "      fill: #D2E3FC;\n",
              "    }\n",
              "\n",
              "    [theme=dark] .colab-df-convert:hover {\n",
              "      background-color: #434B5C;\n",
              "      box-shadow: 0px 1px 3px 1px rgba(0, 0, 0, 0.15);\n",
              "      filter: drop-shadow(0px 1px 2px rgba(0, 0, 0, 0.3));\n",
              "      fill: #FFFFFF;\n",
              "    }\n",
              "  </style>\n",
              "\n",
              "    <script>\n",
              "      const buttonEl =\n",
              "        document.querySelector('#df-24ed51ca-dac1-4b42-9b9b-ccd7a5736058 button.colab-df-convert');\n",
              "      buttonEl.style.display =\n",
              "        google.colab.kernel.accessAllowed ? 'block' : 'none';\n",
              "\n",
              "      async function convertToInteractive(key) {\n",
              "        const element = document.querySelector('#df-24ed51ca-dac1-4b42-9b9b-ccd7a5736058');\n",
              "        const dataTable =\n",
              "          await google.colab.kernel.invokeFunction('convertToInteractive',\n",
              "                                                    [key], {});\n",
              "        if (!dataTable) return;\n",
              "\n",
              "        const docLinkHtml = 'Like what you see? Visit the ' +\n",
              "          '<a target=\"_blank\" href=https://colab.research.google.com/notebooks/data_table.ipynb>data table notebook</a>'\n",
              "          + ' to learn more about interactive tables.';\n",
              "        element.innerHTML = '';\n",
              "        dataTable['output_type'] = 'display_data';\n",
              "        await google.colab.output.renderOutput(dataTable, element);\n",
              "        const docLink = document.createElement('div');\n",
              "        docLink.innerHTML = docLinkHtml;\n",
              "        element.appendChild(docLink);\n",
              "      }\n",
              "    </script>\n",
              "  </div>\n",
              "\n",
              "    </div>\n",
              "  </div>\n"
            ]
          },
          "metadata": {},
          "execution_count": 37
        }
      ]
    },
    {
      "cell_type": "markdown",
      "source": [
        "## NER pipeline**\n"
      ],
      "metadata": {
        "id": "dOfBIlFtJFq0"
      }
    },
    {
      "cell_type": "code",
      "source": [
        "# the NER pipeline main setecion other for undersanding selection\n",
        "# creation of custom dataset\n",
        "import pandas as pd\n",
        "sentences = [\n",
        "    \"Embark on an adventure with Sarah and her trusty camera, capturing breathtaking landscapes in the UK. She loves her work at NASA.\",\n",
        "    \"The bustling streets of New York City are always filled with energy and excitement, making it a dream destination for many.\",\n",
        "    \"Walking through the charming streets of Paris, the Eiffel Tower stands tall as a symbol of romance and architecture.\",\n",
        "    \"Sarah's adventurous spirit led her to explore the stunning landscapes of the USA, while she pursued her dreams at NATO.\",\n",
        "    \"In the heart of Paris, the Eiffel Tower stands as a testament to the city's romantic charm and architectural marvels.\",\n",
        "    \"Exploring the vast Amazon rainforest, exotic birds showcase nature's vibrant melodies and beauty.\",\n",
        "    \"The bustling streets of London are a captivating blend of tradition and modernity, making it a favorite destination.\",\n",
        "    \"Amidst the tranquility of the Swiss Alps, a cozy chalet offers respite and breathtaking mountain views.\",]\n",
        "# Create a DataFrame\n",
        "df = pd.DataFrame({\"Text\": sentences})\n",
        "# Display the DataFrame\n",
        "df"
      ],
      "metadata": {
        "id": "UJMGoLyADXLZ"
      },
      "execution_count": null,
      "outputs": []
    },
    {
      "cell_type": "code",
      "source": [
        "# Actvation of NER pipeline\n",
        "ner_pipeline = pipeline('ner', grouped_entities=True)"
      ],
      "metadata": {
        "id": "iahzaGocHXhu"
      },
      "execution_count": null,
      "outputs": []
    },
    {
      "cell_type": "code",
      "source": [
        "# Detecion of text which belong of NER category\n",
        "ner_detection = [ner_pipeline(ner_info) for ner_info in df['Text']]\n",
        "ner_detection"
      ],
      "metadata": {
        "id": "advpXJxXCOBp"
      },
      "execution_count": null,
      "outputs": []
    },
    {
      "cell_type": "code",
      "source": [
        "# selectiion of only words and their category\n",
        "selected_entities = [\n",
        "    [(entity['entity_group'], entity['word']) for entity in sublist]\n",
        "    for sublist in ner_detection\n",
        "]\n",
        "\n",
        "selected_entities"
      ],
      "metadata": {
        "id": "rpDL5Yw_WlHp"
      },
      "execution_count": null,
      "outputs": []
    },
    {
      "cell_type": "code",
      "source": [
        "# finally adding the info with csutom dataset\n",
        "df[\"entity_words\"] = selected_entities"
      ],
      "metadata": {
        "id": "zol2RxDOYDMY"
      },
      "execution_count": null,
      "outputs": []
    },
    {
      "cell_type": "code",
      "source": [
        "df"
      ],
      "metadata": {
        "id": "_E0xxcycYFsD"
      },
      "execution_count": null,
      "outputs": []
    },
    {
      "cell_type": "markdown",
      "source": [
        "#### genration"
      ],
      "metadata": {
        "id": "B3JDm17RyEYn"
      }
    },
    {
      "cell_type": "code",
      "source": [
        "generator = pipeline(\"text-generation\", model=\"distilgpt2\")"
      ],
      "metadata": {
        "id": "VyGbcWjcqPw3",
        "outputId": "6414bc9f-c6c9-45f1-867a-8198f815d80d",
        "colab": {
          "base_uri": "https://localhost:8080/",
          "height": 209,
          "referenced_widgets": [
            "f92e7e94efac4ab891405269903d4c4f",
            "cc59aa21213c43ba8b2ce7c5320b3c6d",
            "f9c19166681f4a1480222a0ee8950584",
            "a8b24c8d7c3c4e54915c4af81a5ce415",
            "de11e22802e642c69b11b8da35e428e4",
            "70eb1da4ce22469a8a91f80d40cf926c",
            "2953645bcfc1407d8f16d9f440b53df0",
            "7a1b58118c9a4445ad502ac8ba887c1f",
            "ef1d1263fb7643fab664426cad14100a",
            "92d055348ff54e1f99fceca32141529e",
            "355257e31a7e4efea786028a3278c85f",
            "d3c89b657e234cd4864b6e25937986a6",
            "dfefcda8791e4f73851cad54f96a25e1",
            "aef81e9b2c0f488db09c7d1cdd00cec1",
            "87c1774e9bc94b36b9afba455e241a5d",
            "0a163f0c468342a49b25e2b2642dd463",
            "428d2b2330d849ed9b4eeeb4528326a9",
            "18237dda5a30462f834aa09694761f17",
            "39181302e01f498eb130b758d2701024",
            "133a44f96ba943718d874e3180299759",
            "b43c3a713b5747c2821dbd50966f642a",
            "5294979bd2104ce887cbee15ba76fb69",
            "c49bde4824474869bef58120333347b5",
            "2e925e8a8b6347f79b679aa9bc0b449c",
            "3afdde218ebb41ce894d21d41a6bd756",
            "17bf53c5e15f48dba25fd874054f5cf8",
            "8a010dda65244408868b687bcc4cc943",
            "aaf12b42e4934132aaf2f943ca86d309",
            "95b773f0cdd6458ebeb3324fd4dba434",
            "d543b0737cdf45f4b013665efb3d8feb",
            "67a526399b9441719668989a06fc1395",
            "2486a783dffa444d8f487fbee7308195",
            "0844a0e24e1c46a78fa2915ef863d84b",
            "873e78016a64444f9ed0acf648955792",
            "eda20b47f0384d5492e88214da745806",
            "509626be5d854ca79cfc43e3d81698e9",
            "3e9b22c90d9f4619bd32ab4fa40ceffa",
            "774a8d116afc4d04a7844054ccb03ab7",
            "b9bb42d50de0484ba9a275e9d13e3805",
            "939ac83beada4e21b7ca21b927dc7917",
            "c8f977a08e3644a192bd1f6ae0093c95",
            "5af5425b5a354ed3ab606ec4e68ea3d7",
            "b5ffa7c8f2d84d4c8eb0799e610d2d0a",
            "acf63cdc73d14460b1976d5d86dbeb36",
            "75304337a0e641bcb046e0cca35d4d7c",
            "f0fdd27217014f919a95ea158054a9ee",
            "792fb8c20e844233bfa31ade144507fa",
            "fa91bddf95eb4456a92de5f6b716e5e9",
            "c2ae8159975340bcb51806d158b7d518",
            "b5d993bc70cf4c49af5314670b204b49",
            "cf2fb886b8a5430b8f07c1db2371a858",
            "610d9608ea1b45398ef146260fa36fbf",
            "786add88e2f34f5eb04d47ca77586a0e",
            "be292e2a017649f8ad82f5210c6302dc",
            "bfb5e621b442483ca07406a53be59aa4",
            "44994356b2a34abdaf02cdf939b2e10a",
            "4eabfdb0c2d644a9ab89f2a389248371",
            "54816806932c449aa296d8d1fda3acdd",
            "d76f0a95f72b44239f41268ee57a3dbf",
            "5736d7a96e404bd39a463144dc602efd",
            "5de64300caad42b7abf9b25b6122bc72",
            "0b40d98f15f34599aea895d99b5d2f77",
            "8328bf7c12d346b99786375a0feeb54f",
            "fa5cf01016124e62bafbdc45e0cec37e",
            "e56c2bdec5e242d08cef5adc2eca5c2c",
            "854de814df364d4f825724489a9e1e53"
          ]
        }
      },
      "execution_count": null,
      "outputs": [
        {
          "output_type": "display_data",
          "data": {
            "text/plain": [
              "Downloading (…)lve/main/config.json:   0%|          | 0.00/762 [00:00<?, ?B/s]"
            ],
            "application/vnd.jupyter.widget-view+json": {
              "version_major": 2,
              "version_minor": 0,
              "model_id": "f92e7e94efac4ab891405269903d4c4f"
            }
          },
          "metadata": {}
        },
        {
          "output_type": "display_data",
          "data": {
            "text/plain": [
              "Downloading model.safetensors:   0%|          | 0.00/353M [00:00<?, ?B/s]"
            ],
            "application/vnd.jupyter.widget-view+json": {
              "version_major": 2,
              "version_minor": 0,
              "model_id": "d3c89b657e234cd4864b6e25937986a6"
            }
          },
          "metadata": {}
        },
        {
          "output_type": "display_data",
          "data": {
            "text/plain": [
              "Downloading (…)neration_config.json:   0%|          | 0.00/124 [00:00<?, ?B/s]"
            ],
            "application/vnd.jupyter.widget-view+json": {
              "version_major": 2,
              "version_minor": 0,
              "model_id": "c49bde4824474869bef58120333347b5"
            }
          },
          "metadata": {}
        },
        {
          "output_type": "display_data",
          "data": {
            "text/plain": [
              "Downloading (…)olve/main/vocab.json:   0%|          | 0.00/1.04M [00:00<?, ?B/s]"
            ],
            "application/vnd.jupyter.widget-view+json": {
              "version_major": 2,
              "version_minor": 0,
              "model_id": "873e78016a64444f9ed0acf648955792"
            }
          },
          "metadata": {}
        },
        {
          "output_type": "display_data",
          "data": {
            "text/plain": [
              "Downloading (…)olve/main/merges.txt:   0%|          | 0.00/456k [00:00<?, ?B/s]"
            ],
            "application/vnd.jupyter.widget-view+json": {
              "version_major": 2,
              "version_minor": 0,
              "model_id": "75304337a0e641bcb046e0cca35d4d7c"
            }
          },
          "metadata": {}
        },
        {
          "output_type": "display_data",
          "data": {
            "text/plain": [
              "Downloading (…)/main/tokenizer.json:   0%|          | 0.00/1.36M [00:00<?, ?B/s]"
            ],
            "application/vnd.jupyter.widget-view+json": {
              "version_major": 2,
              "version_minor": 0,
              "model_id": "44994356b2a34abdaf02cdf939b2e10a"
            }
          },
          "metadata": {}
        }
      ]
    },
    {
      "cell_type": "code",
      "source": [
        "prompt = \"AI and data science course we will teach you how to\"\n",
        "entity_names = [\"John\", \"TechCorp\", \"San Francisco\"]"
      ],
      "metadata": {
        "id": "ePO3e8PXyDvs"
      },
      "execution_count": null,
      "outputs": []
    },
    {
      "cell_type": "code",
      "source": [
        "i want that it genrate the entity my self which contain name of person , place, and orgainzation\n",
        "prompt = \"AI and data science course we will teach you how to\"\n",
        "\n",
        "entity_names = [\"John\", \"TechCorp\", \"San Francisco\"]\n",
        "prompt = \"AI and data science course we will teach you how to\"\n",
        "entity_names = [\"John\", \"TechCorp\", \"San Francisco\"]\n",
        "output = generator(\n",
        "    prompt + f\" {entity_names[0]} will guide {entity_names[1]} in {entity_names[2]}\",\n",
        "    max_length=30,\n",
        "    num_return_sequences=3,\n",
        "    top_k=50\n",
        ")\n",
        "gen_text=[]\n",
        "for idx, sequence in enumerate(output):\n",
        "  gen_text.append(sequence)\n",
        "  print(f\"Generated Text {idx+1}: {sequence['generated_text']}\\n\")\n"
      ],
      "metadata": {
        "id": "zzQxJiZsyNTs",
        "outputId": "47111e76-d848-4d78-f4ee-06e870620f69",
        "colab": {
          "base_uri": "https://localhost:8080/"
        }
      },
      "execution_count": null,
      "outputs": [
        {
          "output_type": "stream",
          "name": "stderr",
          "text": [
            "Setting `pad_token_id` to `eos_token_id`:50256 for open-end generation.\n"
          ]
        },
        {
          "output_type": "stream",
          "name": "stdout",
          "text": [
            "Generated Text 1: AI and data science course we will teach you how to John will guide TechCorp in San Francisco.\n",
            "\n",
            "Generated Text 2: AI and data science course we will teach you how to John will guide TechCorp in San Francisco.\n",
            "\n",
            "Generated Text 3: AI and data science course we will teach you how to John will guide TechCorp in San Francisco. See more Collider at their website http://www.\n",
            "\n"
          ]
        }
      ]
    },
    {
      "cell_type": "code",
      "source": [
        "for i in gen_text:\n",
        "  print(i['generated_text'])"
      ],
      "metadata": {
        "id": "sirsXIJGyOn4",
        "outputId": "dcaa6f86-54df-4c63-c96f-7318dc0f7925",
        "colab": {
          "base_uri": "https://localhost:8080/"
        }
      },
      "execution_count": null,
      "outputs": [
        {
          "output_type": "stream",
          "name": "stdout",
          "text": [
            "AI and data science course we will teach you how to John will guide TechCorp in San Francisco.\n",
            "AI and data science course we will teach you how to John will guide TechCorp in San Francisco.\n",
            "AI and data science course we will teach you how to John will guide TechCorp in San Francisco. See more Collider at their website http://www.\n"
          ]
        }
      ]
    },
    {
      "cell_type": "code",
      "source": [],
      "metadata": {
        "id": "OJiC5ovE0CHJ"
      },
      "execution_count": null,
      "outputs": []
    },
    {
      "cell_type": "code",
      "source": [
        "i fro i in gen_text\n",
        "  File \"<ipython-input-95-c86224b3916c>\", line 1\n",
        "    i fro i in gen_text:\n",
        "      ^\n",
        "SyntaxError: invalid syntax"
      ],
      "metadata": {
        "id": "FD9tLDhqyz1l"
      },
      "execution_count": null,
      "outputs": []
    },
    {
      "cell_type": "code",
      "source": [
        "prompt = \"AI and data science course we will teach you how to\"\n",
        "entity_names = [\"John\", \"TechCorp\", \"San Francisco\"]\n",
        "\n",
        "output = generator(\n",
        "    prompt + f\" {entity_names[0]} will guide {entity_names[1]} in {entity_names[2]}\",\n",
        "    max_length=30,\n",
        "    num_return_sequences=3,\n",
        "    top_k=50\n",
        ")\n",
        "\n",
        "gen_text = []\n",
        "for idx, sequence in enumerate(output):\n",
        "    gen_text.append(sequence)\n",
        "    print(f\"Generated Text {idx+1}: {sequence['generated_text']}\\n\")\n"
      ],
      "metadata": {
        "id": "XXsVfzAB1xRI",
        "outputId": "dce9852e-b484-48ff-d2ca-d69106ffe8e2",
        "colab": {
          "base_uri": "https://localhost:8080/"
        }
      },
      "execution_count": null,
      "outputs": [
        {
          "output_type": "stream",
          "name": "stderr",
          "text": [
            "Setting `pad_token_id` to `eos_token_id`:50256 for open-end generation.\n"
          ]
        },
        {
          "output_type": "stream",
          "name": "stdout",
          "text": [
            "Generated Text 1: AI and data science course we will teach you how to John will guide TechCorp in San Francisco using free online data.\n",
            "\n",
            "The courseederalist\n",
            "\n",
            "Generated Text 2: AI and data science course we will teach you how to John will guide TechCorp in San Francisco. Our website will have a list of resources, links\n",
            "\n",
            "Generated Text 3: AI and data science course we will teach you how to John will guide TechCorp in San Francisco. Our course is taught online on the web with Google\n",
            "\n"
          ]
        }
      ]
    },
    {
      "cell_type": "code",
      "source": [
        "prompt = \"AI and data science course we will teach you how to\"\n",
        "\n",
        "# Generate entity names using the text generation pipeline\n",
        "entity_name_generation_prompt = \"Generate entity names: <mask> <mask> <mask>\"\n",
        "entity_name_output = generator(\n",
        "    entity_name_generation_prompt,\n",
        "    max_length=20,\n",
        "    num_return_sequences=3,\n",
        "    top_k=50\n",
        ")\n"
      ],
      "metadata": {
        "id": "fsmNNOtp2SJY",
        "outputId": "e0ba54ba-2f6a-4d2d-afd9-0486afe4d5fa",
        "colab": {
          "base_uri": "https://localhost:8080/"
        }
      },
      "execution_count": null,
      "outputs": [
        {
          "output_type": "stream",
          "name": "stderr",
          "text": [
            "Setting `pad_token_id` to `eos_token_id`:50256 for open-end generation.\n"
          ]
        }
      ]
    },
    {
      "cell_type": "code",
      "source": [
        "\n",
        "# Extract generated entity names\n",
        "entity_names = [sequence['generated_text'].replace(\"Generate entity names: \", \"\") for sequence in entity_name_output]\n",
        "\n",
        "# Use the generated entity names in the main prompt\n",
        "main_output = generator(\n",
        "    prompt + f\" {entity_names[0]} will guide {entity_names[1]} in {entity_names[2]}\",\n",
        "    max_length=30,\n",
        "    num_return_sequences=3,\n",
        "    top_k=50\n",
        ")\n",
        "\n",
        "gen_text = []\n",
        "for idx, sequence in enumerate(main_output):\n",
        "    gen_text.append(sequence)\n",
        "    print(f\"Generated Text {idx+1}: {sequence['generated_text']}\\n\")\n"
      ],
      "metadata": {
        "id": "x7EGTg-t1x5V",
        "outputId": "9e64f4c9-b916-4cbe-f844-96af27b358ca",
        "colab": {
          "base_uri": "https://localhost:8080/"
        }
      },
      "execution_count": null,
      "outputs": [
        {
          "output_type": "stream",
          "name": "stderr",
          "text": [
            "Setting `pad_token_id` to `eos_token_id`:50256 for open-end generation.\n",
            "/usr/local/lib/python3.10/dist-packages/transformers/generation/utils.py:1262: UserWarning: Input length of input_ids is 59, but `max_length` is set to 30. This can lead to unexpected behavior. You should consider increasing `max_new_tokens`.\n",
            "  warnings.warn(\n"
          ]
        },
        {
          "output_type": "stream",
          "name": "stdout",
          "text": [
            "Generated Text 1: AI and data science course we will teach you how to <mask> <mask> <mask> <mask> <mask> will guide <mask> <mask> <mask> </mask> </filter> in <mask> <mask> <mask> <mask> <mask> <\n",
            "\n",
            "Generated Text 2: AI and data science course we will teach you how to <mask> <mask> <mask> <mask> <mask> will guide <mask> <mask> <mask> </mask> </filter> in <mask> <mask> <mask> <mask> <mask> <\n",
            "\n",
            "Generated Text 3: AI and data science course we will teach you how to <mask> <mask> <mask> <mask> <mask> will guide <mask> <mask> <mask> </mask> </filter> in <mask> <mask> <mask> <mask> <mask> <\n",
            "\n"
          ]
        }
      ]
    },
    {
      "cell_type": "code",
      "source": [
        "\n",
        "\n",
        "prompt = \"AI and data science course we will teach you how to\"\n",
        "\n",
        "# Generate entity names using the text generation pipeline\n",
        "entity_name_generation_prompt = \"Generate entity names: <mask> <mask> <mask>\"\n",
        "entity_name_output = generator(\n",
        "    entity_name_generation_prompt,\n",
        "    max_length=20,\n",
        "    num_return_sequences=3,\n",
        "    top_k=50\n",
        ")\n",
        "\n",
        "# Extract generated entity names\n",
        "entity_names = [sequence['generated_text'].replace(\"Generate entity names: \", \"\") for sequence in entity_name_output]\n",
        "\n",
        "# Use the generated entity names in the main prompt\n",
        "main_output = generator(\n",
        "    prompt + f\" {entity_names[0]} will guide {entity_names[1]} in {entity_names[2]}\",\n",
        "    max_length=30,\n",
        "    num_return_sequences=3,\n",
        "    top_k=50,\n",
        "    max_new_tokens=100  # Increase this value as needed\n",
        ")\n",
        "\n",
        "gen_text = []\n",
        "for idx, sequence in enumerate(main_output):\n",
        "    gen_text.append(sequence)\n",
        "    print(f\"Generated Text {idx+1}: {sequence['generated_text']}\\n\")\n"
      ],
      "metadata": {
        "id": "Z_LvuVp82o-f",
        "outputId": "0803bad1-7fb8-4db8-a6df-7c1667631956",
        "colab": {
          "base_uri": "https://localhost:8080/"
        }
      },
      "execution_count": null,
      "outputs": [
        {
          "output_type": "stream",
          "name": "stderr",
          "text": [
            "Setting `pad_token_id` to `eos_token_id`:50256 for open-end generation.\n",
            "Setting `pad_token_id` to `eos_token_id`:50256 for open-end generation.\n",
            "Both `max_new_tokens` (=100) and `max_length`(=30) seem to have been set. `max_new_tokens` will take precedence. Please refer to the documentation for more information. (https://huggingface.co/docs/transformers/main/en/main_classes/text_generation)\n"
          ]
        },
        {
          "output_type": "stream",
          "name": "stdout",
          "text": [
            "Generated Text 1: AI and data science course we will teach you how to <mask> <mask> <mask> <mask> <mask> will guide <mask> <mask> <mask> <mask> <mask> in <mask> <mask> <mask> <mask> <mask> <mask> In class we use the \"mask\" in class to define an implementation, but you must have enough knowledge from previous modules in order to be able to understand other module types. If we can help you understand other modules we will be able to develop new functions that represent the entire module. Once a module can take place in class, we will add them directly into the package in your class.\n",
            "\n",
            "\n",
            "\n",
            "In this class we will define a new class which uses the \"mask\"\n",
            "\n",
            "Generated Text 2: AI and data science course we will teach you how to <mask> <mask> <mask> <mask> <mask> will guide <mask> <mask> <mask> <mask> <mask> in <mask> <mask> <mask> <mask> <mask> </ul> <ul> <ul> <ul> <ul> <ul> <ul> <ul> <ul> <ul> <ul> <ul> <ul> <ul> <ul> <ul> <ul> <ul> <ul> <ul> <ul> <ul> <ul> <ul> <ul> <ul> <ul> <ul> <ul> <ul> <ul> <ul> <ul> <\n",
            "\n",
            "Generated Text 3: AI and data science course we will teach you how to <mask> <mask> <mask> <mask> <mask> will guide <mask> <mask> <mask> <mask> <mask> in <mask> <mask> <mask> <mask> <mask> <mask> <mask> <mask> <mask> <mask> <mask> <mask> <mask> <mask> <mask> <mask> <mask> <mask> </class> <a class=\"redux\" rel=\"http://nvidia.com/class/redux/class/redux-redux-rp.html\"> <a class=\"redux\" rel=\"http://nvidia.com/class/redux-rp.\n",
            "\n"
          ]
        }
      ]
    }
  ],
  "metadata": {
    "colab": {
      "provenance": [],
      "collapsed_sections": [
        "ZAAamFcxwIpr",
        "sMw4hWnCvw31",
        "Pjt2U5fRv7do",
        "3KncifH2wDYH",
        "B3JDm17RyEYn"
      ],
      "authorship_tag": "ABX9TyNfZJYeO5HUSH4BI+rtNVGN",
      "include_colab_link": true
    },
    "kernelspec": {
      "display_name": "Python 3",
      "name": "python3"
    },
    "language_info": {
      "name": "python"
    }
  },
  "nbformat": 4,
  "nbformat_minor": 0
}