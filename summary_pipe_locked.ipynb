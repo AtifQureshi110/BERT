{
  "nbformat": 4,
  "nbformat_minor": 0,
  "metadata": {
    "colab": {
      "provenance": [],
      "authorship_tag": "ABX9TyOB862Z6EHHz3I+gdsfc5hn",
      "include_colab_link": true
    },
    "kernelspec": {
      "name": "python3",
      "display_name": "Python 3"
    },
    "language_info": {
      "name": "python"
    }
  },
  "cells": [
    {
      "cell_type": "markdown",
      "metadata": {
        "id": "view-in-github",
        "colab_type": "text"
      },
      "source": [
        "<a href=\"https://colab.research.google.com/github/AtifQureshi110/BERT/blob/main/summary_pipe_locked.ipynb\" target=\"_parent\"><img src=\"https://colab.research.google.com/assets/colab-badge.svg\" alt=\"Open In Colab\"/></a>"
      ]
    },
    {
      "cell_type": "code",
      "execution_count": 1,
      "metadata": {
        "colab": {
          "base_uri": "https://localhost:8080/"
        },
        "id": "0vdozD9yigHM",
        "outputId": "cbc8c9f3-1538-493c-8513-f293add094b1"
      },
      "outputs": [
        {
          "output_type": "stream",
          "name": "stdout",
          "text": [
            "Requirement already satisfied: transformers in /usr/local/lib/python3.10/dist-packages (4.32.1)\n",
            "Requirement already satisfied: filelock in /usr/local/lib/python3.10/dist-packages (from transformers) (3.12.2)\n",
            "Requirement already satisfied: huggingface-hub<1.0,>=0.15.1 in /usr/local/lib/python3.10/dist-packages (from transformers) (0.16.4)\n",
            "Requirement already satisfied: numpy>=1.17 in /usr/local/lib/python3.10/dist-packages (from transformers) (1.23.5)\n",
            "Requirement already satisfied: packaging>=20.0 in /usr/local/lib/python3.10/dist-packages (from transformers) (23.1)\n",
            "Requirement already satisfied: pyyaml>=5.1 in /usr/local/lib/python3.10/dist-packages (from transformers) (6.0.1)\n",
            "Requirement already satisfied: regex!=2019.12.17 in /usr/local/lib/python3.10/dist-packages (from transformers) (2023.6.3)\n",
            "Requirement already satisfied: requests in /usr/local/lib/python3.10/dist-packages (from transformers) (2.31.0)\n",
            "Requirement already satisfied: tokenizers!=0.11.3,<0.14,>=0.11.1 in /usr/local/lib/python3.10/dist-packages (from transformers) (0.13.3)\n",
            "Requirement already satisfied: safetensors>=0.3.1 in /usr/local/lib/python3.10/dist-packages (from transformers) (0.3.3)\n",
            "Requirement already satisfied: tqdm>=4.27 in /usr/local/lib/python3.10/dist-packages (from transformers) (4.66.1)\n",
            "Requirement already satisfied: fsspec in /usr/local/lib/python3.10/dist-packages (from huggingface-hub<1.0,>=0.15.1->transformers) (2023.6.0)\n",
            "Requirement already satisfied: typing-extensions>=3.7.4.3 in /usr/local/lib/python3.10/dist-packages (from huggingface-hub<1.0,>=0.15.1->transformers) (4.7.1)\n",
            "Requirement already satisfied: charset-normalizer<4,>=2 in /usr/local/lib/python3.10/dist-packages (from requests->transformers) (3.2.0)\n",
            "Requirement already satisfied: idna<4,>=2.5 in /usr/local/lib/python3.10/dist-packages (from requests->transformers) (3.4)\n",
            "Requirement already satisfied: urllib3<3,>=1.21.1 in /usr/local/lib/python3.10/dist-packages (from requests->transformers) (2.0.4)\n",
            "Requirement already satisfied: certifi>=2017.4.17 in /usr/local/lib/python3.10/dist-packages (from requests->transformers) (2023.7.22)\n"
          ]
        }
      ],
      "source": [
        "# installation of transformers.\n",
        "!pip install transformers"
      ]
    },
    {
      "cell_type": "code",
      "source": [
        "# improting the pipeline.\n",
        "from transformers import pipeline"
      ],
      "metadata": {
        "id": "DM-yVULNimiX"
      },
      "execution_count": 2,
      "outputs": []
    },
    {
      "cell_type": "code",
      "source": [
        "# make a instance of summarization pipeline\n",
        "summarize = pipeline(\"summarization\")  # or pipeline(\"t5-small\")"
      ],
      "metadata": {
        "colab": {
          "base_uri": "https://localhost:8080/"
        },
        "id": "rZ_aJ7NNir9_",
        "outputId": "6c41f106-5009-43c5-aaf9-0fe20aef810f"
      },
      "execution_count": 3,
      "outputs": [
        {
          "output_type": "stream",
          "name": "stderr",
          "text": [
            "No model was supplied, defaulted to sshleifer/distilbart-cnn-12-6 and revision a4f8f3e (https://huggingface.co/sshleifer/distilbart-cnn-12-6).\n",
            "Using a pipeline without specifying a model name and revision in production is not recommended.\n"
          ]
        }
      ]
    },
    {
      "cell_type": "code",
      "source": [
        "# making a simplwe text to get the summary of by the instance of pipeline.\n",
        "text =\"\"\"The Physical Foundation:Physical health serves as the foundation of our well-being. Regular exercise, a balanced diet, and adequate sleep are essential components of maintaining our physical vitality. Engaging in physical activities not only helps in weight management and cardiovascular health but also releases endorphins, promoting mental well-being. A diet rich in nutrients provides our bodies with the necessary fuel for optimal performance, while quality sleep supports immune function, cognitive abilities, and emotional resilience.\n",
        "Cultivating Mental Resilience:Our mental health is intrinsically linked to our overall health. In an era marked by stress and anxiety, prioritizing mental wellness is paramount. Practicing mindfulness and meditation can help manage stress, reduce anxiety, and enhance cognitive abilities. Creating a support network of friends, family, or professionals to lean on during challenging times is crucial. Moreover, engaging in hobbies, pursuing passions, and setting achievable goals contribute to a positive outlook on life.\n",
        "Embracing Emotional Intelligence:Emotional well-being is often underestimated but holds significant power in shaping our lives. Understanding and managing our emotions through emotional intelligence allows us to handle stress, foster healthy relationships, and make informed decisions. Self-awareness and self-regulation empower us to respond thoughtfully rather than react impulsively, enhancing our overall emotional balance.\n",
        "The Social Connection:Human beings are inherently social creatures, and meaningful connections with others greatly impact our health. Strong social ties not only reduce feelings of isolation but also provide emotional support during challenging times. Engaging in social activities, maintaining friendships, and building a sense of belonging contribute to mental and emotional well-being.\n",
        "Environmental Harmony:The environment we inhabit plays a crucial role in our health. A clean and organized living space promotes mental clarity and reduces stress. Spending time in nature has been linked to improved mood and reduced stress levels. Additionally, conscious consumption and reducing our carbon footprint not only benefit the planet but also contribute to a sense of purpose and well-being.\n",
        "The Role of Sleep:Sleep is often undervalued, but its significance cannot be overstated. Quality sleep is essential for physical and mental recovery. Prioritizing a consistent sleep schedule, creating a comfortable sleep environment, and avoiding stimulants before bedtime are steps towards restful sleep. Adequate sleep enhances cognitive function, emotional resilience, and immune system strength.\n",
        "Holistic Approaches to Healing:Holistic health practices encompass a range of therapies and traditions that focus on treating the whole person, not just the symptoms. Practices such as acupuncture, yoga, aromatherapy, and herbal medicine have been embraced for centuries to promote balance and healing. Integrating these practices into modern lifestyles can offer complementary benefits to conventional medical treatments.\"\"\""
      ],
      "metadata": {
        "id": "jHQljmpGlC7O"
      },
      "execution_count": 4,
      "outputs": []
    },
    {
      "cell_type": "code",
      "source": [
        "# calling the instance to make the summary of the above text.\n",
        "summarize(text)"
      ],
      "metadata": {
        "colab": {
          "base_uri": "https://localhost:8080/"
        },
        "id": "eqolrUR3kORk",
        "outputId": "727959f7-2e89-4436-e9be-de4168137a55"
      },
      "execution_count": 5,
      "outputs": [
        {
          "output_type": "execute_result",
          "data": {
            "text/plain": [
              "[{'summary_text': ' Regular exercise, a balanced diet, and adequate sleep are essential components of maintaining our physical vitality . Practicing mindfulness and meditation can help manage stress, reduce anxiety, and enhance cognitive abilities . Engaging in social activities, maintaining friendships, and building a sense of belonging contribute to mental and emotional well-being .'}]"
            ]
          },
          "metadata": {},
          "execution_count": 5
        }
      ]
    },
    {
      "cell_type": "code",
      "source": [
        "# let's make a summary of the following 10 long articles to an idea of what the articles are about.\n",
        "\n",
        "article1 = \"\"\"In the realm of maintaining our well-being, safeguarding our eyes deserves paramount attention. Our eyes, the windows to the world, are vulnerable to various hazards in our modern environment. From digital screens to harsh sunlight, our eyes encounter stressors daily. Therefore, prioritizing eye protection is not just wise; it's essential. Blue light emitted by screens has become an omnipresent concern. Prolonged exposure can lead to digital eye strain, impacting our vision and overall comfort. Wearing blue light-blocking glasses when using electronic devices can mitigate these effects. Similarly, UV rays from the sun pose a significant threat. Donning sunglasses with proper UV protection shields our eyes from potential harm. Workplace safety is another facet. In industrial settings, protective eyewear safeguards against debris, chemicals, and projectiles. These specialized glasses shield our eyes from potential injuries. Moreover, practicing good eye hygiene, such as not rubbing our eyes and washing hands regularly, prevents infections. Regular eye check-ups are invaluable. Optometrists can detect early signs of eye conditions, enabling timely interventions. Incorporating foods rich in antioxidants, like carrots and leafy greens, supports eye health. Adequate hydration benefits our eyes, as does giving them breaks during prolonged tasks.\"\"\"\n",
        "\n",
        "article2 = \"\"\"Ensuring safety and security within university campuses is an imperative responsibility that institutions must undertake. The multifaceted nature of university life necessitates a comprehensive approach to protection. Physical safety is paramount. Implementing stringent access controls and surveillance systems helps deter unauthorized individuals and prevent potential threats. Campus lighting, especially in dimly lit areas, contributes to a secure environment for students and staff alike. Emergency response protocols are vital components of university protection. Conducting regular drills and training sessions equips the community with the necessary skills to respond swiftly and effectively in crisis situations. Promoting a culture of respect and inclusivity is pivotal for psychological safety. Universities should foster an environment where students, regardless of their backgrounds, feel safe expressing their ideas and opinions without fear of harassment or discrimination. Cybersecurity is a growing concern in the digital age. Safeguarding sensitive information, particularly student data, from cyber threats is crucial. Implementing robust cybersecurity measures prevents data breaches and protects the university community.Health and well-being must also be safeguarded. Providing access to mental health resources, counseling services, and promoting overall wellness contributes to a protected and nurturing campus environment. Collaboration with local law enforcement agencies enhances campus safety. Establishing partnerships for joint training exercises and information sharing strengthens response capabilities. Regular safety assessments and audits identify potential vulnerabilities, enabling proactive measures. Ensuring that facilities adhere to safety codes and regulations is essential for mitigating risks. Engaging the university community in safety awareness campaigns encourages vigilance and proactive reporting of suspicious activities. A sense of collective responsibility strengthens the protective network.\"\"\"\n",
        "\n",
        "article3 = \"\"\"Computers have revolutionized every facet of modern life. From homes to businesses, education to entertainment, computers play an integral role. Their ability to process vast amounts of data with remarkable speed has transformed industries and propelled innovation. Operating systems serve as the backbone of computer functionality. Windows, macOS, and Linux are among the most widely used. These systems provide user interfaces and manage hardware resources efficiently. Software applications further enhance computer utility. From productivity tools like word processors and spreadsheets to creative software for design and editing, applications cater to diverse needs. The hardware components of computers include the central processing unit (CPU), memory, storage, and peripherals. CPUs execute instructions, memory stores data, and storage offers long-term data retention. Peripherals like keyboards, mice, and monitors facilitate user interaction.Networking capabilities connect computers globally. The internet has brought unprecedented connectivity, enabling communication, information sharing, and e-commerce on a global scale. Computer programming is the art of instructing computers to perform tasks. Programming languages like Python, Java, and C++ provide the tools to develop software and applications.Artificial intelligence (AI) is a transformative field where computers simulate human intelligence. Machine learning, a subset of AI, empowers computers to learn from data and improve their performance over time. Cybersecurity is of paramount concern. Protecting computers from malicious threats, such as viruses and hacking attempts, is essential to safeguarding sensitive information. Quantum computing is an emerging frontier that leverages quantum bits (qubits) to perform complex calculations. This technology has the potential to revolutionize industries reliant on intensive computation.\"\"\"\n",
        "\n",
        "article4 = \"\"\"Women have played an indispensable role in shaping the course of history. From their contributions to society to their impact in various fields, women's influence is undeniable. Throughout history, women have defied societal norms to champion causes they believe in. Their efforts have led to advancements in civil rights, gender equality, and social justice. In the realm of science, women have made groundbreaking discoveries. Figures like Marie Curie and Rosalind Franklin have left an indelible mark on fields such as physics and genetics. Women's contributions to literature and the arts are equally significant. Authors like Jane Austen and Maya Angelou have produced timeless works that continue to inspire and resonate with audiences. In the workforce, women have shattered glass ceilings and excelled in traditionally male-dominated industries. Their resilience and determination continue to pave the way for future generations. Motherhood is just one facet of a woman's identity. Many women juggle multiple roles, from professionals to caregivers, showcasing their versatility and adaptability. The fight for gender equality remains ongoing. Women around the world continue to advocate for equal opportunities, fair treatment, and recognition of their achievements. Education is a powerful tool that empowers women to realize their full potential. Access to education opens doors to economic independence and personal growth. Women's health is a crucial aspect of overall well-being. Advocacy for reproductive rights, access to healthcare, and maternal support are essential components. In leadership roles, women bring diverse perspectives and skills to the table. Their influence spans politics, business, and community development. In the face of adversity, women have displayed remarkable resilience. Their ability to overcome challenges and create positive change is a testament to their strength. Women's voices have resonated through movements that strive for justice, equity, and human rights. From suffrage to #MeToo, these voices catalyze change. Empowering women economically boosts economies and fosters social progress. Entrepreneurship and women-led initiatives drive innovation and growth. Cultural and ethnic diversity among women further enriches the global tapestry. Different experiences contribute to a dynamic exchange of ideas and perspectives. Supporting women means creating inclusive environments where they can thrive. Collective efforts are necessary to dismantle barriers and achieve true equality.\"\"\"\n",
        "\n",
        "article5 = \"\"\"Technology has become an integral part of modern life, reshaping how we interact, work, and communicate. The rapid pace of technological advancement has brought forth a myriad of innovations that have revolutionized industries and societies. The advent of the internet has transformed the way we access information and connect with people globally. Smartphones have become ubiquitous, serving as pocket-sized computers that facilitate communication, navigation, and entertainment. Artificial intelligence (AI) has opened up new realms of possibility, from virtual assistants to predictive analytics, enhancing efficiency and decision-making. Automation has streamlined processes in various sectors, leading to increased productivity and reduced human error. Emerging technologies like virtual reality (VR) and augmented reality (AR) are changing how we experience entertainment, education, and even workplace training. Blockchain technology has the potential to revolutionize sectors such as finance and supply chain management by enhancing transparency and security. Biotechnology is advancing medical research and healthcare, leading to breakthroughs in disease treatment and genetic understanding. Renewable energy technologies are driving sustainability efforts, offering cleaner alternatives for power generation and reducing environmental impact. The Internet of Things (IoT) connects devices and appliances, enabling smarter homes and cities through data-driven automation. Cybersecurity measures have become paramount as technology's prevalence brings new challenges in protecting sensitive information. E-commerce has transformed the way we shop, with online marketplaces offering convenience and access to a global array of products. Educational technology is reshaping learning, with online platforms and digital resources providing accessible and personalized education. The intersection of technology and healthcare has resulted in telemedicine, wearable health devices, and data-driven diagnostics.\"\"\"\n",
        "\n",
        "article6 = \"\"\"The phenomenon of migration from Pakistan to other countries has profound effects on both the nation itself and the individuals involved. Brain drain poses a significant challenge, as skilled professionals and talented individuals seek better opportunities abroad, potentially depriving Pakistan of expertise critical for development. The remittances sent back by overseas Pakistanis serve as a lifeline for the economy, contributing to foreign exchange reserves and aiding poverty alleviation. Migration also has a social impact, as families are separated, leading to emotional strain and challenges in maintaining social bonds. A demographic shift occurs due to migration, altering the population dynamics and potentially affecting workforce availability. The departure of young people seeking better prospects abroad can lead to a skills gap within Pakistan, impacting sectors such as healthcare and education. Migration can lead to a loss of cultural heritage as individuals assimilate into host societies, potentially diluting the distinct Pakistani identity. However, those who return after working or studying abroad can bring back valuable knowledge and skills, contributing positively to various sectors. Migration also contributes to global connections, fostering cross-cultural exchange and enabling the Pakistani diaspora to serve as ambassadors for their homeland. The brain gain phenomenon occurs when expatriates return with new perspectives, enriching local industries with innovative ideas. Migration can also ease domestic unemployment pressures, as individuals find employment opportunities in other countries. The loss of productive citizens to migration underscores the importance of creating an environment conducive to retaining talent within Pakistan. There is a potential reduction in the dependency ratio as migrants typically leave behind dependent family members, potentially easing social welfare burdens. The outflow of citizens can put pressure on social services as individuals seek better healthcare and education opportunities abroad.\"\"\"\n",
        "\n",
        "article7 = \"\"\"Migration from Pakistan to other countries brings about a range of benefits that impact both the nation and the migrants themselves. Remittances sent by overseas Pakistanis play a crucial role in boosting the economy. These inflows contribute significantly to foreign exchange reserves and support the balance of payments. The funds received through remittances alleviate poverty and improve the standard of living for families left behind, helping to meet basic needs and provide better education and healthcare. The process of migration often involves acquiring new skills and knowledge, which can be later applied in Pakistan upon the migrants' return, contributing to the nation's workforce enhancement. Migrants often engage in entrepreneurial ventures abroad and subsequently invest in businesses and projects in Pakistan, fostering economic growth. Migration encourages cultural exchange, with Pakistanis abroad sharing their traditions and culture, thus fostering a more global understanding of Pakistan. The Pakistani diaspora acts as a bridge between Pakistan and other nations, facilitating international partnerships and collaborations. Migration fosters international connections, enabling Pakistanis to tap into global networks and opportunities for personal and professional growth. Through exposure to diverse perspectives and experiences abroad, migrants can bring innovative ideas and approaches back to Pakistan. Migration often relieves the pressure on domestic unemployment, as individuals find employment opportunities and send remittances home. The migration of skilled workers can lead to knowledge transfer and capacity building, enhancing sectors such as healthcare and education in Pakistan. Diaspora communities abroad can contribute to raising awareness about Pakistan and advocating for its interests on the global stage. Migration can influence positive changes in gender roles, as women migrants often gain greater autonomy and financial independence, inspiring similar shifts at home. The benefits of migration extend beyond financial gains, encompassing personal development, cross-cultural understanding, and a broader worldview.\"\"\"\n",
        "\n",
        "article8 = \"\"\"For Pakistan's youth to drive economic growth and development, there are three key skills they must acquire to flourish in the modern landscape. Firstly, digital literacy is essential. The ability to navigate technology, use digital tools, and understand online platforms is vital in an increasingly digital world. Digital literacy empowers youth to access information, engage in e-commerce, and leverage digital platforms for learning and networking. Secondly, entrepreneurial skills are crucial. Encouraging a culture of innovation and equipping youth with entrepreneurial know-how enables them to create jobs rather than solely seeking employment. Skills in business planning, financial management, and marketing are imperative for establishing and sustaining successful ventures. Lastly, adaptability and resilience are paramount. The ability to embrace change, learn new skills, and navigate challenges is essential in today's rapidly evolving environment. Developing a growth mindset and honing problem-solving abilities empowers youth to thrive amidst uncertainties. These three skills collectively empower Pakistan's youth to contribute actively to the economy. Digital literacy enables them to harness technology for productivity, while entrepreneurial skills foster self-sufficiency and job creation. Adaptability ensures they can pivot and innovate in response to changing circumstances. By cultivating these skills, Pakistan's youth can chart a path towards economic prosperity and a brighter future.\"\"\"\n",
        "\n",
        "article9 = \"\"\"Helping others is a fundamental aspect of human compassion that transcends cultural and societal boundaries. Acts of kindness and generosity have the power to create positive ripples that extend far beyond the immediate recipient. Assisting those in need, whether through charitable donations or volunteering, contributes to building stronger and more supportive communities. Offering a helping hand can provide individuals with a sense of purpose and fulfillment, enhancing their mental and emotional well-being. Empathy, the ability to understand and share the feelings of others, is the driving force behind effective assistance. Small gestures, such as a smile, a kind word, or a lending ear, can have a significant impact on someone's day and overall outlook. Helping others instills values of empathy and kindness in younger generations, creating a cycle of positive influence. Acts of service often lead to a sense of connectedness, fostering social bonds and reducing feelings of isolation. Volunteering not only benefits recipients but also offers volunteers the opportunity to learn new skills and gain diverse experiences. Community support networks, formal and informal, thrive when individuals extend help to one another. Helping others during times of crisis or adversity demonstrates the strength of human solidarity and the power of collective action. Supporting marginalized groups and advocating for social justice are essential components of helping others on a systemic level. Random acts of kindness inspire a culture of giving, prompting individuals to pay forward the goodwill they have received. The act of helping can be as simple as sharing knowledge, offering guidance, or being a source of encouragement. Ultimately, helping others is a universal act that contributes to the betterment of society as a whole, reflecting the compassion and interconnectedness inherent in humanity.\"\"\"\n",
        "\n",
        "article10 = \"\"\"Teaching others is a transformative act that empowers both the teacher and the learner, fostering growth and knowledge-sharing. The role of a teacher extends beyond classrooms, as anyone can impart knowledge and skills to those eager to learn. Mentoring and guiding others allows individuals to develop leadership qualities and make a positive impact on someone's life. Sharing expertise and experiences contributes to the collective wisdom of society, passing down valuable insights from one generation to another. Teaching fosters a sense of community and camaraderie, as individuals come together to exchange knowledge and learn from one another. Effective teaching involves not just imparting information but also igniting curiosity and critical thinking in learners. Teachers inspire confidence and self-assurance in their students, instilling a belief in their own potential. Empathy and patience are key traits of effective teachers, as they tailor their approach to the unique needs of each learner. Teaching others enhances communication skills, as educators find innovative ways to convey complex concepts and engage diverse audiences. In today's digital age, teaching takes on new dimensions, with online platforms enabling global knowledge-sharing and virtual classrooms. Cross-cultural teaching bridges gaps and fosters mutual understanding, promoting harmony in diverse societies. The act of teaching also deepens the teacher's understanding of the subject matter, as explaining concepts reinforces one's own grasp of the material. Volunteering to teach or mentor can make a positive impact on underserved communities, providing them with access to valuable skills and information. Teachers cultivate a sense of curiosity and a love of learning that extends beyond formal education, promoting lifelong learning. Ultimately, teaching others is a noble endeavor that enriches individuals, communities, and societies as a whole, embodying the spirit of knowledge-sharing and collaboration.\"\"\""
      ],
      "metadata": {
        "id": "TbeUQtPYmRuQ"
      },
      "execution_count": 6,
      "outputs": []
    },
    {
      "cell_type": "code",
      "source": [
        "import pandas as pd\n",
        "# Creatin a custom dataset with articles variables.\n",
        "data = {'Article': [article1, article2, article3, article4, article5, article6, article7, article8, article9, article10]}\n",
        "df = pd.DataFrame(data)\n",
        "df"
      ],
      "metadata": {
        "colab": {
          "base_uri": "https://localhost:8080/",
          "height": 1907
        },
        "id": "jAPuq9u6nJOW",
        "outputId": "ef07b575-7cbe-4655-ece4-e84fafe3d326"
      },
      "execution_count": 10,
      "outputs": [
        {
          "output_type": "execute_result",
          "data": {
            "text/plain": [
              "                                             Article\n",
              "0  In the realm of maintaining our well-being, sa...\n",
              "1  Ensuring safety and security within university...\n",
              "2  Computers have revolutionized every facet of m...\n",
              "3  Women have played an indispensable role in sha...\n",
              "4  Technology has become an integral part of mode...\n",
              "5  The phenomenon of migration from Pakistan to o...\n",
              "6  Migration from Pakistan to other countries bri...\n",
              "7  For Pakistan's youth to drive economic growth ...\n",
              "8  Helping others is a fundamental aspect of huma...\n",
              "9  Teaching others is a transformative act that e..."
            ],
            "text/html": [
              "\n",
              "  <div id=\"df-f2b363b2-6005-43b3-8522-68946ed547ea\" class=\"colab-df-container\">\n",
              "    <div>\n",
              "<style scoped>\n",
              "    .dataframe tbody tr th:only-of-type {\n",
              "        vertical-align: middle;\n",
              "    }\n",
              "\n",
              "    .dataframe tbody tr th {\n",
              "        vertical-align: top;\n",
              "    }\n",
              "\n",
              "    .dataframe thead th {\n",
              "        text-align: right;\n",
              "    }\n",
              "</style>\n",
              "<table border=\"1\" class=\"dataframe\">\n",
              "  <thead>\n",
              "    <tr style=\"text-align: right;\">\n",
              "      <th></th>\n",
              "      <th>Article</th>\n",
              "    </tr>\n",
              "  </thead>\n",
              "  <tbody>\n",
              "    <tr>\n",
              "      <th>0</th>\n",
              "      <td>In the realm of maintaining our well-being, sa...</td>\n",
              "    </tr>\n",
              "    <tr>\n",
              "      <th>1</th>\n",
              "      <td>Ensuring safety and security within university...</td>\n",
              "    </tr>\n",
              "    <tr>\n",
              "      <th>2</th>\n",
              "      <td>Computers have revolutionized every facet of m...</td>\n",
              "    </tr>\n",
              "    <tr>\n",
              "      <th>3</th>\n",
              "      <td>Women have played an indispensable role in sha...</td>\n",
              "    </tr>\n",
              "    <tr>\n",
              "      <th>4</th>\n",
              "      <td>Technology has become an integral part of mode...</td>\n",
              "    </tr>\n",
              "    <tr>\n",
              "      <th>5</th>\n",
              "      <td>The phenomenon of migration from Pakistan to o...</td>\n",
              "    </tr>\n",
              "    <tr>\n",
              "      <th>6</th>\n",
              "      <td>Migration from Pakistan to other countries bri...</td>\n",
              "    </tr>\n",
              "    <tr>\n",
              "      <th>7</th>\n",
              "      <td>For Pakistan's youth to drive economic growth ...</td>\n",
              "    </tr>\n",
              "    <tr>\n",
              "      <th>8</th>\n",
              "      <td>Helping others is a fundamental aspect of huma...</td>\n",
              "    </tr>\n",
              "    <tr>\n",
              "      <th>9</th>\n",
              "      <td>Teaching others is a transformative act that e...</td>\n",
              "    </tr>\n",
              "  </tbody>\n",
              "</table>\n",
              "</div>\n",
              "    <div class=\"colab-df-buttons\">\n",
              "\n",
              "  <div class=\"colab-df-container\">\n",
              "    <button class=\"colab-df-convert\" onclick=\"convertToInteractive('df-f2b363b2-6005-43b3-8522-68946ed547ea')\"\n",
              "            title=\"Convert this dataframe to an interactive table.\"\n",
              "            style=\"display:none;\">\n",
              "\n",
              "  <svg xmlns=\"http://www.w3.org/2000/svg\" height=\"24px\" viewBox=\"0 -960 960 960\">\n",
              "    <path d=\"M120-120v-720h720v720H120Zm60-500h600v-160H180v160Zm220 220h160v-160H400v160Zm0 220h160v-160H400v160ZM180-400h160v-160H180v160Zm440 0h160v-160H620v160ZM180-180h160v-160H180v160Zm440 0h160v-160H620v160Z\"/>\n",
              "  </svg>\n",
              "    </button>\n",
              "\n",
              "  <style>\n",
              "    .colab-df-container {\n",
              "      display:flex;\n",
              "      gap: 12px;\n",
              "    }\n",
              "\n",
              "    .colab-df-convert {\n",
              "      background-color: #E8F0FE;\n",
              "      border: none;\n",
              "      border-radius: 50%;\n",
              "      cursor: pointer;\n",
              "      display: none;\n",
              "      fill: #1967D2;\n",
              "      height: 32px;\n",
              "      padding: 0 0 0 0;\n",
              "      width: 32px;\n",
              "    }\n",
              "\n",
              "    .colab-df-convert:hover {\n",
              "      background-color: #E2EBFA;\n",
              "      box-shadow: 0px 1px 2px rgba(60, 64, 67, 0.3), 0px 1px 3px 1px rgba(60, 64, 67, 0.15);\n",
              "      fill: #174EA6;\n",
              "    }\n",
              "\n",
              "    .colab-df-buttons div {\n",
              "      margin-bottom: 4px;\n",
              "    }\n",
              "\n",
              "    [theme=dark] .colab-df-convert {\n",
              "      background-color: #3B4455;\n",
              "      fill: #D2E3FC;\n",
              "    }\n",
              "\n",
              "    [theme=dark] .colab-df-convert:hover {\n",
              "      background-color: #434B5C;\n",
              "      box-shadow: 0px 1px 3px 1px rgba(0, 0, 0, 0.15);\n",
              "      filter: drop-shadow(0px 1px 2px rgba(0, 0, 0, 0.3));\n",
              "      fill: #FFFFFF;\n",
              "    }\n",
              "  </style>\n",
              "\n",
              "    <script>\n",
              "      const buttonEl =\n",
              "        document.querySelector('#df-f2b363b2-6005-43b3-8522-68946ed547ea button.colab-df-convert');\n",
              "      buttonEl.style.display =\n",
              "        google.colab.kernel.accessAllowed ? 'block' : 'none';\n",
              "\n",
              "      async function convertToInteractive(key) {\n",
              "        const element = document.querySelector('#df-f2b363b2-6005-43b3-8522-68946ed547ea');\n",
              "        const dataTable =\n",
              "          await google.colab.kernel.invokeFunction('convertToInteractive',\n",
              "                                                    [key], {});\n",
              "        if (!dataTable) return;\n",
              "\n",
              "        const docLinkHtml = 'Like what you see? Visit the ' +\n",
              "          '<a target=\"_blank\" href=https://colab.research.google.com/notebooks/data_table.ipynb>data table notebook</a>'\n",
              "          + ' to learn more about interactive tables.';\n",
              "        element.innerHTML = '';\n",
              "        dataTable['output_type'] = 'display_data';\n",
              "        await google.colab.output.renderOutput(dataTable, element);\n",
              "        const docLink = document.createElement('div');\n",
              "        docLink.innerHTML = docLinkHtml;\n",
              "        element.appendChild(docLink);\n",
              "      }\n",
              "    </script>\n",
              "  </div>\n",
              "\n",
              "\n",
              "<div id=\"df-a1f77ded-d40d-4ea8-b728-83f0e5d3cf56\">\n",
              "  <button class=\"colab-df-quickchart\" onclick=\"quickchart('df-a1f77ded-d40d-4ea8-b728-83f0e5d3cf56')\"\n",
              "            title=\"Suggest charts.\"\n",
              "            style=\"display:none;\">\n",
              "\n",
              "<svg xmlns=\"http://www.w3.org/2000/svg\" height=\"24px\"viewBox=\"0 0 24 24\"\n",
              "     width=\"24px\">\n",
              "    <g>\n",
              "        <path d=\"M19 3H5c-1.1 0-2 .9-2 2v14c0 1.1.9 2 2 2h14c1.1 0 2-.9 2-2V5c0-1.1-.9-2-2-2zM9 17H7v-7h2v7zm4 0h-2V7h2v10zm4 0h-2v-4h2v4z\"/>\n",
              "    </g>\n",
              "</svg>\n",
              "  </button>\n",
              "\n",
              "<style>\n",
              "  .colab-df-quickchart {\n",
              "    background-color: #E8F0FE;\n",
              "    border: none;\n",
              "    border-radius: 50%;\n",
              "    cursor: pointer;\n",
              "    display: none;\n",
              "    fill: #1967D2;\n",
              "    height: 32px;\n",
              "    padding: 0 0 0 0;\n",
              "    width: 32px;\n",
              "  }\n",
              "\n",
              "  .colab-df-quickchart:hover {\n",
              "    background-color: #E2EBFA;\n",
              "    box-shadow: 0px 1px 2px rgba(60, 64, 67, 0.3), 0px 1px 3px 1px rgba(60, 64, 67, 0.15);\n",
              "    fill: #174EA6;\n",
              "  }\n",
              "\n",
              "  [theme=dark] .colab-df-quickchart {\n",
              "    background-color: #3B4455;\n",
              "    fill: #D2E3FC;\n",
              "  }\n",
              "\n",
              "  [theme=dark] .colab-df-quickchart:hover {\n",
              "    background-color: #434B5C;\n",
              "    box-shadow: 0px 1px 3px 1px rgba(0, 0, 0, 0.15);\n",
              "    filter: drop-shadow(0px 1px 2px rgba(0, 0, 0, 0.3));\n",
              "    fill: #FFFFFF;\n",
              "  }\n",
              "</style>\n",
              "\n",
              "  <script>\n",
              "    async function quickchart(key) {\n",
              "      const charts = await google.colab.kernel.invokeFunction(\n",
              "          'suggestCharts', [key], {});\n",
              "    }\n",
              "    (() => {\n",
              "      let quickchartButtonEl =\n",
              "        document.querySelector('#df-a1f77ded-d40d-4ea8-b728-83f0e5d3cf56 button');\n",
              "      quickchartButtonEl.style.display =\n",
              "        google.colab.kernel.accessAllowed ? 'block' : 'none';\n",
              "    })();\n",
              "  </script>\n",
              "</div>\n",
              "    </div>\n",
              "  </div>\n"
            ]
          },
          "metadata": {},
          "execution_count": 10
        }
      ]
    },
    {
      "cell_type": "code",
      "source": [
        "# 1) I am creating a simple empty list called summer_list.\n",
        "# 2) reading each data inside df[\"Article\"] column with help of for loop.\n",
        "# 3) Summarizing each article with the help of \"summarize instance of the pipeline\" and then appealing to each summarized item to list one after another.\n",
        "summer_list = []\n",
        "for i in df['Article']:\n",
        "  summer_list.append(summarize(i))"
      ],
      "metadata": {
        "id": "-VCZXtnmnLpr"
      },
      "execution_count": 11,
      "outputs": []
    },
    {
      "cell_type": "code",
      "source": [
        "#it is the summarized list.\n",
        "summer_list"
      ],
      "metadata": {
        "colab": {
          "base_uri": "https://localhost:8080/"
        },
        "id": "ykRM34rarhcY",
        "outputId": "136d3aec-12e7-418a-ce10-634b59bde1af"
      },
      "execution_count": 12,
      "outputs": [
        {
          "output_type": "execute_result",
          "data": {
            "text/plain": [
              "[[{'summary_text': \" From digital screens to harsh sunlight, our eyes encounter stressors daily . prioritizing eye protection is not just wise; it's essential . Blue light emitted by screens can lead to digital eye strain, impacting our vision . Wearing blue light-blocking glasses when using electronic devices can mitigate these effects .\"}],\n",
              " [{'summary_text': ' Physical safety is paramount . Cybersecurity is a growing concern in the digital age . Universities should foster an environment where students feel safe expressing their ideas and opinions without fear of harassment or discrimination . Providing access to mental health resources, counseling services, and promoting overall wellness contributes to a protected campus environment .'}],\n",
              " [{'summary_text': ' Computers have revolutionized every facet of modern life . Their ability to process vast amounts of data with remarkable speed has transformed industries . Operating systems serve as the backbone of computer functionality . Cybersecurity is of paramount concern . Quantum computing leverages quantum bits (qubits) to perform complex calculations .'}],\n",
              " [{'summary_text': ' Throughout history, women have defied societal norms to champion causes they believe in . Their efforts have led to advancements in civil rights, gender equality, and social justice . Many women juggle multiple roles, from professionals to caregivers, showcasing their versatility and adaptability . Education is a powerful tool that empowers women to realize their full potential .'}],\n",
              " [{'summary_text': ' The rapid pace of technological advancement has brought forth a myriad of innovations that have revolutionized industries and societies . The advent of the internet has transformed the way we access information and connect with people globally . The intersection of technology and healthcare has resulted in telemedicine, wearable health devices, and data-driven diagnostics .'}],\n",
              " [{'summary_text': ' Remittances sent back by overseas Pakistanis serve as a lifeline for the economy, contributing to foreign exchange reserves and aiding poverty alleviation . Migration can lead to a loss of cultural heritage as individuals assimilate into host societies . Migration also contributes to global connections, fostering cross-cultural exchange and enabling the Pakistani diaspora to serve as ambassadors .'}],\n",
              " [{'summary_text': ' Remittances sent by overseas Pakistanis play a crucial role in boosting the economy . The funds received through remittances alleviate poverty and improve the standard of living for families left behind . The Pakistani diaspora acts as a bridge between Pakistan and other nations, facilitating international partnerships and collaborations .'}],\n",
              " [{'summary_text': \" For Pakistan's youth to drive economic growth and development, there are three key skills they must acquire to flourish in the modern landscape . The ability to navigate technology, use digital tools, and understand online platforms is vital in an increasingly digital world . Entrepreneurial know-how enables them to create jobs rather than solely seeking employment . Adaptability and resilience are paramount in today's rapidly evolving environment .\"}],\n",
              " [{'summary_text': ' Offering a helping hand can provide individuals with a sense of purpose and fulfillment, enhancing their mental and emotional well-being . Assisting those in need, whether through charitable donations or volunteering, contributes to building stronger and more supportive communities . Empathy, the ability to understand and share the feelings of others, is the driving force behind effective assistance .'}],\n",
              " [{'summary_text': ' Teaching others is a transformative act that empowers both the teacher and the learner, fostering growth and knowledge-sharing . The role of a teacher extends beyond classrooms, as anyone can impart knowledge and skills to those eager to learn . Teaching fosters a sense of community and camaraderie, as individuals come together to exchange knowledge and learn from one another .'}]]"
            ]
          },
          "metadata": {},
          "execution_count": 12
        }
      ]
    },
    {
      "cell_type": "code",
      "source": [
        "# the data I got in the above process has some extra information and I am interested in summary_test only.\n",
        "# I again use two for loop select desire text then save that into the filter list\n",
        "filter_summer_list=[]\n",
        "for i in summer_list:\n",
        "  for x in i:\n",
        "    filter_summer_list.append(x[\"summary_text\"])"
      ],
      "metadata": {
        "id": "5wA3SF-T1aOE"
      },
      "execution_count": 13,
      "outputs": []
    },
    {
      "cell_type": "code",
      "source": [
        "# this is the final list of summary i got.\n",
        "filter_summer_list"
      ],
      "metadata": {
        "colab": {
          "base_uri": "https://localhost:8080/"
        },
        "id": "dc9BgkqnsVvP",
        "outputId": "30c03964-e788-490f-b419-94c70c32d055"
      },
      "execution_count": 14,
      "outputs": [
        {
          "output_type": "execute_result",
          "data": {
            "text/plain": [
              "[\" From digital screens to harsh sunlight, our eyes encounter stressors daily . prioritizing eye protection is not just wise; it's essential . Blue light emitted by screens can lead to digital eye strain, impacting our vision . Wearing blue light-blocking glasses when using electronic devices can mitigate these effects .\",\n",
              " ' Physical safety is paramount . Cybersecurity is a growing concern in the digital age . Universities should foster an environment where students feel safe expressing their ideas and opinions without fear of harassment or discrimination . Providing access to mental health resources, counseling services, and promoting overall wellness contributes to a protected campus environment .',\n",
              " ' Computers have revolutionized every facet of modern life . Their ability to process vast amounts of data with remarkable speed has transformed industries . Operating systems serve as the backbone of computer functionality . Cybersecurity is of paramount concern . Quantum computing leverages quantum bits (qubits) to perform complex calculations .',\n",
              " ' Throughout history, women have defied societal norms to champion causes they believe in . Their efforts have led to advancements in civil rights, gender equality, and social justice . Many women juggle multiple roles, from professionals to caregivers, showcasing their versatility and adaptability . Education is a powerful tool that empowers women to realize their full potential .',\n",
              " ' The rapid pace of technological advancement has brought forth a myriad of innovations that have revolutionized industries and societies . The advent of the internet has transformed the way we access information and connect with people globally . The intersection of technology and healthcare has resulted in telemedicine, wearable health devices, and data-driven diagnostics .',\n",
              " ' Remittances sent back by overseas Pakistanis serve as a lifeline for the economy, contributing to foreign exchange reserves and aiding poverty alleviation . Migration can lead to a loss of cultural heritage as individuals assimilate into host societies . Migration also contributes to global connections, fostering cross-cultural exchange and enabling the Pakistani diaspora to serve as ambassadors .',\n",
              " ' Remittances sent by overseas Pakistanis play a crucial role in boosting the economy . The funds received through remittances alleviate poverty and improve the standard of living for families left behind . The Pakistani diaspora acts as a bridge between Pakistan and other nations, facilitating international partnerships and collaborations .',\n",
              " \" For Pakistan's youth to drive economic growth and development, there are three key skills they must acquire to flourish in the modern landscape . The ability to navigate technology, use digital tools, and understand online platforms is vital in an increasingly digital world . Entrepreneurial know-how enables them to create jobs rather than solely seeking employment . Adaptability and resilience are paramount in today's rapidly evolving environment .\",\n",
              " ' Offering a helping hand can provide individuals with a sense of purpose and fulfillment, enhancing their mental and emotional well-being . Assisting those in need, whether through charitable donations or volunteering, contributes to building stronger and more supportive communities . Empathy, the ability to understand and share the feelings of others, is the driving force behind effective assistance .',\n",
              " ' Teaching others is a transformative act that empowers both the teacher and the learner, fostering growth and knowledge-sharing . The role of a teacher extends beyond classrooms, as anyone can impart knowledge and skills to those eager to learn . Teaching fosters a sense of community and camaraderie, as individuals come together to exchange knowledge and learn from one another .']"
            ]
          },
          "metadata": {},
          "execution_count": 14
        }
      ]
    },
    {
      "cell_type": "code",
      "source": [
        "# make the filter_summer_list as part of our actual data frame I simply create a column called Summary and give it the filter_summer_list\n",
        "df[\"Summary\"]= filter_summer_list"
      ],
      "metadata": {
        "id": "3qr4laJNtjC3"
      },
      "execution_count": 15,
      "outputs": []
    },
    {
      "cell_type": "code",
      "source": [
        "# HERE WE HAVE OUR DATA FRAME WITH SUMMARIES OF EACH ARTICLE\n",
        "df.head(10)"
      ],
      "metadata": {
        "colab": {
          "base_uri": "https://localhost:8080/",
          "height": 2386
        },
        "id": "DSXs7b502j5Z",
        "outputId": "4f5aabe4-decb-41ac-ed40-a03605db8d44"
      },
      "execution_count": 16,
      "outputs": [
        {
          "output_type": "execute_result",
          "data": {
            "text/plain": [
              "                                             Article  \\\n",
              "0  In the realm of maintaining our well-being, sa...   \n",
              "1  Ensuring safety and security within university...   \n",
              "2  Computers have revolutionized every facet of m...   \n",
              "3  Women have played an indispensable role in sha...   \n",
              "4  Technology has become an integral part of mode...   \n",
              "5  The phenomenon of migration from Pakistan to o...   \n",
              "6  Migration from Pakistan to other countries bri...   \n",
              "7  For Pakistan's youth to drive economic growth ...   \n",
              "8  Helping others is a fundamental aspect of huma...   \n",
              "9  Teaching others is a transformative act that e...   \n",
              "\n",
              "                                             Summary  \n",
              "0   From digital screens to harsh sunlight, our e...  \n",
              "1   Physical safety is paramount . Cybersecurity ...  \n",
              "2   Computers have revolutionized every facet of ...  \n",
              "3   Throughout history, women have defied societa...  \n",
              "4   The rapid pace of technological advancement h...  \n",
              "5   Remittances sent back by overseas Pakistanis ...  \n",
              "6   Remittances sent by overseas Pakistanis play ...  \n",
              "7   For Pakistan's youth to drive economic growth...  \n",
              "8   Offering a helping hand can provide individua...  \n",
              "9   Teaching others is a transformative act that ...  "
            ],
            "text/html": [
              "\n",
              "  <div id=\"df-7735c372-6061-43be-b64b-155578718400\" class=\"colab-df-container\">\n",
              "    <div>\n",
              "<style scoped>\n",
              "    .dataframe tbody tr th:only-of-type {\n",
              "        vertical-align: middle;\n",
              "    }\n",
              "\n",
              "    .dataframe tbody tr th {\n",
              "        vertical-align: top;\n",
              "    }\n",
              "\n",
              "    .dataframe thead th {\n",
              "        text-align: right;\n",
              "    }\n",
              "</style>\n",
              "<table border=\"1\" class=\"dataframe\">\n",
              "  <thead>\n",
              "    <tr style=\"text-align: right;\">\n",
              "      <th></th>\n",
              "      <th>Article</th>\n",
              "      <th>Summary</th>\n",
              "    </tr>\n",
              "  </thead>\n",
              "  <tbody>\n",
              "    <tr>\n",
              "      <th>0</th>\n",
              "      <td>In the realm of maintaining our well-being, sa...</td>\n",
              "      <td>From digital screens to harsh sunlight, our e...</td>\n",
              "    </tr>\n",
              "    <tr>\n",
              "      <th>1</th>\n",
              "      <td>Ensuring safety and security within university...</td>\n",
              "      <td>Physical safety is paramount . Cybersecurity ...</td>\n",
              "    </tr>\n",
              "    <tr>\n",
              "      <th>2</th>\n",
              "      <td>Computers have revolutionized every facet of m...</td>\n",
              "      <td>Computers have revolutionized every facet of ...</td>\n",
              "    </tr>\n",
              "    <tr>\n",
              "      <th>3</th>\n",
              "      <td>Women have played an indispensable role in sha...</td>\n",
              "      <td>Throughout history, women have defied societa...</td>\n",
              "    </tr>\n",
              "    <tr>\n",
              "      <th>4</th>\n",
              "      <td>Technology has become an integral part of mode...</td>\n",
              "      <td>The rapid pace of technological advancement h...</td>\n",
              "    </tr>\n",
              "    <tr>\n",
              "      <th>5</th>\n",
              "      <td>The phenomenon of migration from Pakistan to o...</td>\n",
              "      <td>Remittances sent back by overseas Pakistanis ...</td>\n",
              "    </tr>\n",
              "    <tr>\n",
              "      <th>6</th>\n",
              "      <td>Migration from Pakistan to other countries bri...</td>\n",
              "      <td>Remittances sent by overseas Pakistanis play ...</td>\n",
              "    </tr>\n",
              "    <tr>\n",
              "      <th>7</th>\n",
              "      <td>For Pakistan's youth to drive economic growth ...</td>\n",
              "      <td>For Pakistan's youth to drive economic growth...</td>\n",
              "    </tr>\n",
              "    <tr>\n",
              "      <th>8</th>\n",
              "      <td>Helping others is a fundamental aspect of huma...</td>\n",
              "      <td>Offering a helping hand can provide individua...</td>\n",
              "    </tr>\n",
              "    <tr>\n",
              "      <th>9</th>\n",
              "      <td>Teaching others is a transformative act that e...</td>\n",
              "      <td>Teaching others is a transformative act that ...</td>\n",
              "    </tr>\n",
              "  </tbody>\n",
              "</table>\n",
              "</div>\n",
              "    <div class=\"colab-df-buttons\">\n",
              "\n",
              "  <div class=\"colab-df-container\">\n",
              "    <button class=\"colab-df-convert\" onclick=\"convertToInteractive('df-7735c372-6061-43be-b64b-155578718400')\"\n",
              "            title=\"Convert this dataframe to an interactive table.\"\n",
              "            style=\"display:none;\">\n",
              "\n",
              "  <svg xmlns=\"http://www.w3.org/2000/svg\" height=\"24px\" viewBox=\"0 -960 960 960\">\n",
              "    <path d=\"M120-120v-720h720v720H120Zm60-500h600v-160H180v160Zm220 220h160v-160H400v160Zm0 220h160v-160H400v160ZM180-400h160v-160H180v160Zm440 0h160v-160H620v160ZM180-180h160v-160H180v160Zm440 0h160v-160H620v160Z\"/>\n",
              "  </svg>\n",
              "    </button>\n",
              "\n",
              "  <style>\n",
              "    .colab-df-container {\n",
              "      display:flex;\n",
              "      gap: 12px;\n",
              "    }\n",
              "\n",
              "    .colab-df-convert {\n",
              "      background-color: #E8F0FE;\n",
              "      border: none;\n",
              "      border-radius: 50%;\n",
              "      cursor: pointer;\n",
              "      display: none;\n",
              "      fill: #1967D2;\n",
              "      height: 32px;\n",
              "      padding: 0 0 0 0;\n",
              "      width: 32px;\n",
              "    }\n",
              "\n",
              "    .colab-df-convert:hover {\n",
              "      background-color: #E2EBFA;\n",
              "      box-shadow: 0px 1px 2px rgba(60, 64, 67, 0.3), 0px 1px 3px 1px rgba(60, 64, 67, 0.15);\n",
              "      fill: #174EA6;\n",
              "    }\n",
              "\n",
              "    .colab-df-buttons div {\n",
              "      margin-bottom: 4px;\n",
              "    }\n",
              "\n",
              "    [theme=dark] .colab-df-convert {\n",
              "      background-color: #3B4455;\n",
              "      fill: #D2E3FC;\n",
              "    }\n",
              "\n",
              "    [theme=dark] .colab-df-convert:hover {\n",
              "      background-color: #434B5C;\n",
              "      box-shadow: 0px 1px 3px 1px rgba(0, 0, 0, 0.15);\n",
              "      filter: drop-shadow(0px 1px 2px rgba(0, 0, 0, 0.3));\n",
              "      fill: #FFFFFF;\n",
              "    }\n",
              "  </style>\n",
              "\n",
              "    <script>\n",
              "      const buttonEl =\n",
              "        document.querySelector('#df-7735c372-6061-43be-b64b-155578718400 button.colab-df-convert');\n",
              "      buttonEl.style.display =\n",
              "        google.colab.kernel.accessAllowed ? 'block' : 'none';\n",
              "\n",
              "      async function convertToInteractive(key) {\n",
              "        const element = document.querySelector('#df-7735c372-6061-43be-b64b-155578718400');\n",
              "        const dataTable =\n",
              "          await google.colab.kernel.invokeFunction('convertToInteractive',\n",
              "                                                    [key], {});\n",
              "        if (!dataTable) return;\n",
              "\n",
              "        const docLinkHtml = 'Like what you see? Visit the ' +\n",
              "          '<a target=\"_blank\" href=https://colab.research.google.com/notebooks/data_table.ipynb>data table notebook</a>'\n",
              "          + ' to learn more about interactive tables.';\n",
              "        element.innerHTML = '';\n",
              "        dataTable['output_type'] = 'display_data';\n",
              "        await google.colab.output.renderOutput(dataTable, element);\n",
              "        const docLink = document.createElement('div');\n",
              "        docLink.innerHTML = docLinkHtml;\n",
              "        element.appendChild(docLink);\n",
              "      }\n",
              "    </script>\n",
              "  </div>\n",
              "\n",
              "\n",
              "<div id=\"df-b59f35f2-3f8e-464c-86a7-7caee7fce38d\">\n",
              "  <button class=\"colab-df-quickchart\" onclick=\"quickchart('df-b59f35f2-3f8e-464c-86a7-7caee7fce38d')\"\n",
              "            title=\"Suggest charts.\"\n",
              "            style=\"display:none;\">\n",
              "\n",
              "<svg xmlns=\"http://www.w3.org/2000/svg\" height=\"24px\"viewBox=\"0 0 24 24\"\n",
              "     width=\"24px\">\n",
              "    <g>\n",
              "        <path d=\"M19 3H5c-1.1 0-2 .9-2 2v14c0 1.1.9 2 2 2h14c1.1 0 2-.9 2-2V5c0-1.1-.9-2-2-2zM9 17H7v-7h2v7zm4 0h-2V7h2v10zm4 0h-2v-4h2v4z\"/>\n",
              "    </g>\n",
              "</svg>\n",
              "  </button>\n",
              "\n",
              "<style>\n",
              "  .colab-df-quickchart {\n",
              "    background-color: #E8F0FE;\n",
              "    border: none;\n",
              "    border-radius: 50%;\n",
              "    cursor: pointer;\n",
              "    display: none;\n",
              "    fill: #1967D2;\n",
              "    height: 32px;\n",
              "    padding: 0 0 0 0;\n",
              "    width: 32px;\n",
              "  }\n",
              "\n",
              "  .colab-df-quickchart:hover {\n",
              "    background-color: #E2EBFA;\n",
              "    box-shadow: 0px 1px 2px rgba(60, 64, 67, 0.3), 0px 1px 3px 1px rgba(60, 64, 67, 0.15);\n",
              "    fill: #174EA6;\n",
              "  }\n",
              "\n",
              "  [theme=dark] .colab-df-quickchart {\n",
              "    background-color: #3B4455;\n",
              "    fill: #D2E3FC;\n",
              "  }\n",
              "\n",
              "  [theme=dark] .colab-df-quickchart:hover {\n",
              "    background-color: #434B5C;\n",
              "    box-shadow: 0px 1px 3px 1px rgba(0, 0, 0, 0.15);\n",
              "    filter: drop-shadow(0px 1px 2px rgba(0, 0, 0, 0.3));\n",
              "    fill: #FFFFFF;\n",
              "  }\n",
              "</style>\n",
              "\n",
              "  <script>\n",
              "    async function quickchart(key) {\n",
              "      const charts = await google.colab.kernel.invokeFunction(\n",
              "          'suggestCharts', [key], {});\n",
              "    }\n",
              "    (() => {\n",
              "      let quickchartButtonEl =\n",
              "        document.querySelector('#df-b59f35f2-3f8e-464c-86a7-7caee7fce38d button');\n",
              "      quickchartButtonEl.style.display =\n",
              "        google.colab.kernel.accessAllowed ? 'block' : 'none';\n",
              "    })();\n",
              "  </script>\n",
              "</div>\n",
              "    </div>\n",
              "  </div>\n"
            ]
          },
          "metadata": {},
          "execution_count": 16
        }
      ]
    },
    {
      "cell_type": "code",
      "source": [],
      "metadata": {
        "id": "VHQ-D3Ej7dt0"
      },
      "execution_count": null,
      "outputs": []
    }
  ]
}