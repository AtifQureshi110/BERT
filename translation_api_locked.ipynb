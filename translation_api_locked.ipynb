{
  "nbformat": 4,
  "nbformat_minor": 0,
  "metadata": {
    "colab": {
      "provenance": [],
      "authorship_tag": "ABX9TyODAenDMrFVYd32YTSIdXt4",
      "include_colab_link": true
    },
    "kernelspec": {
      "name": "python3",
      "display_name": "Python 3"
    },
    "language_info": {
      "name": "python"
    }
  },
  "cells": [
    {
      "cell_type": "markdown",
      "metadata": {
        "id": "view-in-github",
        "colab_type": "text"
      },
      "source": [
        "<a href=\"https://colab.research.google.com/github/AtifQureshi110/BERT/blob/main/translation_api_locked.ipynb\" target=\"_parent\"><img src=\"https://colab.research.google.com/assets/colab-badge.svg\" alt=\"Open In Colab\"/></a>"
      ]
    },
    {
      "cell_type": "code",
      "execution_count": 3,
      "metadata": {
        "colab": {
          "base_uri": "https://localhost:8080/"
        },
        "id": "KiXubRp3FzW3",
        "outputId": "611ef6e8-382e-40c1-f454-2a548bae81fc"
      },
      "outputs": [
        {
          "output_type": "stream",
          "name": "stdout",
          "text": [
            "Requirement already satisfied: transformers in /usr/local/lib/python3.10/dist-packages (4.32.1)\n",
            "Requirement already satisfied: filelock in /usr/local/lib/python3.10/dist-packages (from transformers) (3.12.2)\n",
            "Requirement already satisfied: huggingface-hub<1.0,>=0.15.1 in /usr/local/lib/python3.10/dist-packages (from transformers) (0.16.4)\n",
            "Requirement already satisfied: numpy>=1.17 in /usr/local/lib/python3.10/dist-packages (from transformers) (1.23.5)\n",
            "Requirement already satisfied: packaging>=20.0 in /usr/local/lib/python3.10/dist-packages (from transformers) (23.1)\n",
            "Requirement already satisfied: pyyaml>=5.1 in /usr/local/lib/python3.10/dist-packages (from transformers) (6.0.1)\n",
            "Requirement already satisfied: regex!=2019.12.17 in /usr/local/lib/python3.10/dist-packages (from transformers) (2023.6.3)\n",
            "Requirement already satisfied: requests in /usr/local/lib/python3.10/dist-packages (from transformers) (2.31.0)\n",
            "Requirement already satisfied: tokenizers!=0.11.3,<0.14,>=0.11.1 in /usr/local/lib/python3.10/dist-packages (from transformers) (0.13.3)\n",
            "Requirement already satisfied: safetensors>=0.3.1 in /usr/local/lib/python3.10/dist-packages (from transformers) (0.3.3)\n",
            "Requirement already satisfied: tqdm>=4.27 in /usr/local/lib/python3.10/dist-packages (from transformers) (4.66.1)\n",
            "Requirement already satisfied: fsspec in /usr/local/lib/python3.10/dist-packages (from huggingface-hub<1.0,>=0.15.1->transformers) (2023.6.0)\n",
            "Requirement already satisfied: typing-extensions>=3.7.4.3 in /usr/local/lib/python3.10/dist-packages (from huggingface-hub<1.0,>=0.15.1->transformers) (4.7.1)\n",
            "Requirement already satisfied: charset-normalizer<4,>=2 in /usr/local/lib/python3.10/dist-packages (from requests->transformers) (3.2.0)\n",
            "Requirement already satisfied: idna<4,>=2.5 in /usr/local/lib/python3.10/dist-packages (from requests->transformers) (3.4)\n",
            "Requirement already satisfied: urllib3<3,>=1.21.1 in /usr/local/lib/python3.10/dist-packages (from requests->transformers) (2.0.4)\n",
            "Requirement already satisfied: certifi>=2017.4.17 in /usr/local/lib/python3.10/dist-packages (from requests->transformers) (2023.7.22)\n"
          ]
        }
      ],
      "source": [
        "# installation of transformers.\n",
        "!pip install transformers"
      ]
    },
    {
      "cell_type": "code",
      "source": [
        "# is used for text tokenization and is required by certain language models and tokenizers in NLP tasks.\n",
        "!pip install sentencepiece"
      ],
      "metadata": {
        "colab": {
          "base_uri": "https://localhost:8080/"
        },
        "id": "LFuFY_e2HXaw",
        "outputId": "6b587baf-7f9a-485e-cd0b-53bf195e765a"
      },
      "execution_count": 4,
      "outputs": [
        {
          "output_type": "stream",
          "name": "stdout",
          "text": [
            "Requirement already satisfied: sentencepiece in /usr/local/lib/python3.10/dist-packages (0.1.99)\n"
          ]
        }
      ]
    },
    {
      "cell_type": "code",
      "source": [
        "# improting the pipeline.\n",
        "from transformers import pipeline"
      ],
      "metadata": {
        "id": "3mGSuYrvF9Ph"
      },
      "execution_count": 5,
      "outputs": []
    },
    {
      "cell_type": "code",
      "source": [
        "# make a instance of translation pipeline\n",
        "translate_fr_en = pipeline(\"translation\", model=\"Helsinki-NLP/opus-mt-fr-en\")"
      ],
      "metadata": {
        "colab": {
          "base_uri": "https://localhost:8080/"
        },
        "id": "MHqYAIDGF_v1",
        "outputId": "be3594c2-4ef5-4803-e283-dc89fee57fd5"
      },
      "execution_count": 6,
      "outputs": [
        {
          "output_type": "stream",
          "name": "stderr",
          "text": [
            "/usr/local/lib/python3.10/dist-packages/transformers/models/marian/tokenization_marian.py:194: UserWarning: Recommended: pip install sacremoses.\n",
            "  warnings.warn(\"Recommended: pip install sacremoses.\")\n"
          ]
        }
      ]
    },
    {
      "cell_type": "code",
      "source": [
        "# translation of franch text into english by a instance of translation pipeline .\n",
        "translated_text_fr_en = translate_fr_en(\"Bonjour, comment ça va atif?\")"
      ],
      "metadata": {
        "id": "wdFsUDhhKXdD"
      },
      "execution_count": 7,
      "outputs": []
    },
    {
      "cell_type": "code",
      "source": [
        "# output in english.\n",
        "translated_text_fr_en"
      ],
      "metadata": {
        "colab": {
          "base_uri": "https://localhost:8080/"
        },
        "id": "9zrQy-CnKbue",
        "outputId": "92ca73ce-34ea-49e9-ed6a-b5262a0f48b6"
      },
      "execution_count": 8,
      "outputs": [
        {
          "output_type": "execute_result",
          "data": {
            "text/plain": [
              "[{'translation_text': \"Hello, how's it going?\"}]"
            ]
          },
          "metadata": {},
          "execution_count": 8
        }
      ]
    },
    {
      "cell_type": "code",
      "source": [
        "# creating custom dataset which have all the information in french and our task is to convert them into any understandable language here i perfer it to english.\n",
        "import pandas as pd\n",
        "data = [  \"La bronchite est l'inflammation de la muqueuse des grandes voies respiratoires appelées bronches dans les poumons.\",\n",
        "    \"L'intelligence artificielle (IA) fait référence à la simulation de processus cognitifs humains par des machines.\",\n",
        "    \"Le changement climatique résulte de l'accumulation de gaz à effet de serre dans l'atmosphère, provoquant des variations climatiques.\",\n",
        "    \"La mondialisation désigne l'interconnexion croissante des économies, cultures et sociétés à l'échelle mondiale.\",\n",
        "    \"Le diabète de type 2 est une maladie chronique caractérisée par une résistance à l'insuline et des niveaux élevés de glucose dans le sang.\",\n",
        "    \"L'énergie solaire est produite par la conversion de la lumière du soleil en électricité à l'aide de panneaux solaires.\",\n",
        "    \"La Révolution industrielle a marqué une période de transformation majeure de la production, passant de méthodes artisanales à la manufacture.\",\n",
        "    \"Le développement durable vise à répondre aux besoins du présent sans compromettre les ressources pour les générations futures.\",\n",
        "    \"La guerre froide était une période de tension géopolitique entre les États-Unis et l'Union soviétique après la Seconde Guerre mondiale.\",\n",
        "    \"Le cancer est une maladie caractérisée par la croissance incontrôlée de cellules anormales dans le corps.\",\n",
        "    \"Les énergies renouvelables, telles que l'éolien et l'hydroélectricité, sont des sources d'énergie écologiques et durables.\",\n",
        "    \"La littérature classique française comprend des œuvres emblématiques de Molière, Voltaire, et Victor Hugo.\",\n",
        "    \"La démocratie est un système politique dans lequel le pouvoir est exercé par le peuple, souvent par le biais d'élections.\",\n",
        "    \"La crise économique de 2008 a entraîné des répercussions mondiales, affectant les marchés financiers et l'emploi.\",\n",
        "    \"La culture populaire englobe les éléments culturels préférés par la majorité, comme la musique, les films et la mode.\"]\n",
        "\n",
        "df = pd.DataFrame(data, columns=[\"French Description\"])\n",
        "# Display the DataFrame\n",
        "df"
      ],
      "metadata": {
        "colab": {
          "base_uri": "https://localhost:8080/",
          "height": 462
        },
        "id": "YcwbKoFKHiGK",
        "outputId": "e54f6fb7-bebd-4167-f4be-c5990517dc32"
      },
      "execution_count": 9,
      "outputs": [
        {
          "output_type": "execute_result",
          "data": {
            "text/plain": [
              "                                   French Description\n",
              "0   La bronchite est l'inflammation de la muqueuse...\n",
              "1   L'intelligence artificielle (IA) fait référenc...\n",
              "2   Le changement climatique résulte de l'accumula...\n",
              "3   La mondialisation désigne l'interconnexion cro...\n",
              "4   Le diabète de type 2 est une maladie chronique...\n",
              "5   L'énergie solaire est produite par la conversi...\n",
              "6   La Révolution industrielle a marqué une périod...\n",
              "7   Le développement durable vise à répondre aux b...\n",
              "8   La guerre froide était une période de tension ...\n",
              "9   Le cancer est une maladie caractérisée par la ...\n",
              "10  Les énergies renouvelables, telles que l'éolie...\n",
              "11  La littérature classique française comprend de...\n",
              "12  La démocratie est un système politique dans le...\n",
              "13  La crise économique de 2008 a entraîné des rép...\n",
              "14  La culture populaire englobe les éléments cult..."
            ],
            "text/html": [
              "\n",
              "  <div id=\"df-2a9a7d3b-0d32-47f8-84d9-41116ea4c146\" class=\"colab-df-container\">\n",
              "    <div>\n",
              "<style scoped>\n",
              "    .dataframe tbody tr th:only-of-type {\n",
              "        vertical-align: middle;\n",
              "    }\n",
              "\n",
              "    .dataframe tbody tr th {\n",
              "        vertical-align: top;\n",
              "    }\n",
              "\n",
              "    .dataframe thead th {\n",
              "        text-align: right;\n",
              "    }\n",
              "</style>\n",
              "<table border=\"1\" class=\"dataframe\">\n",
              "  <thead>\n",
              "    <tr style=\"text-align: right;\">\n",
              "      <th></th>\n",
              "      <th>French Description</th>\n",
              "    </tr>\n",
              "  </thead>\n",
              "  <tbody>\n",
              "    <tr>\n",
              "      <th>0</th>\n",
              "      <td>La bronchite est l'inflammation de la muqueuse...</td>\n",
              "    </tr>\n",
              "    <tr>\n",
              "      <th>1</th>\n",
              "      <td>L'intelligence artificielle (IA) fait référenc...</td>\n",
              "    </tr>\n",
              "    <tr>\n",
              "      <th>2</th>\n",
              "      <td>Le changement climatique résulte de l'accumula...</td>\n",
              "    </tr>\n",
              "    <tr>\n",
              "      <th>3</th>\n",
              "      <td>La mondialisation désigne l'interconnexion cro...</td>\n",
              "    </tr>\n",
              "    <tr>\n",
              "      <th>4</th>\n",
              "      <td>Le diabète de type 2 est une maladie chronique...</td>\n",
              "    </tr>\n",
              "    <tr>\n",
              "      <th>5</th>\n",
              "      <td>L'énergie solaire est produite par la conversi...</td>\n",
              "    </tr>\n",
              "    <tr>\n",
              "      <th>6</th>\n",
              "      <td>La Révolution industrielle a marqué une périod...</td>\n",
              "    </tr>\n",
              "    <tr>\n",
              "      <th>7</th>\n",
              "      <td>Le développement durable vise à répondre aux b...</td>\n",
              "    </tr>\n",
              "    <tr>\n",
              "      <th>8</th>\n",
              "      <td>La guerre froide était une période de tension ...</td>\n",
              "    </tr>\n",
              "    <tr>\n",
              "      <th>9</th>\n",
              "      <td>Le cancer est une maladie caractérisée par la ...</td>\n",
              "    </tr>\n",
              "    <tr>\n",
              "      <th>10</th>\n",
              "      <td>Les énergies renouvelables, telles que l'éolie...</td>\n",
              "    </tr>\n",
              "    <tr>\n",
              "      <th>11</th>\n",
              "      <td>La littérature classique française comprend de...</td>\n",
              "    </tr>\n",
              "    <tr>\n",
              "      <th>12</th>\n",
              "      <td>La démocratie est un système politique dans le...</td>\n",
              "    </tr>\n",
              "    <tr>\n",
              "      <th>13</th>\n",
              "      <td>La crise économique de 2008 a entraîné des rép...</td>\n",
              "    </tr>\n",
              "    <tr>\n",
              "      <th>14</th>\n",
              "      <td>La culture populaire englobe les éléments cult...</td>\n",
              "    </tr>\n",
              "  </tbody>\n",
              "</table>\n",
              "</div>\n",
              "    <div class=\"colab-df-buttons\">\n",
              "\n",
              "  <div class=\"colab-df-container\">\n",
              "    <button class=\"colab-df-convert\" onclick=\"convertToInteractive('df-2a9a7d3b-0d32-47f8-84d9-41116ea4c146')\"\n",
              "            title=\"Convert this dataframe to an interactive table.\"\n",
              "            style=\"display:none;\">\n",
              "\n",
              "  <svg xmlns=\"http://www.w3.org/2000/svg\" height=\"24px\" viewBox=\"0 -960 960 960\">\n",
              "    <path d=\"M120-120v-720h720v720H120Zm60-500h600v-160H180v160Zm220 220h160v-160H400v160Zm0 220h160v-160H400v160ZM180-400h160v-160H180v160Zm440 0h160v-160H620v160ZM180-180h160v-160H180v160Zm440 0h160v-160H620v160Z\"/>\n",
              "  </svg>\n",
              "    </button>\n",
              "\n",
              "  <style>\n",
              "    .colab-df-container {\n",
              "      display:flex;\n",
              "      gap: 12px;\n",
              "    }\n",
              "\n",
              "    .colab-df-convert {\n",
              "      background-color: #E8F0FE;\n",
              "      border: none;\n",
              "      border-radius: 50%;\n",
              "      cursor: pointer;\n",
              "      display: none;\n",
              "      fill: #1967D2;\n",
              "      height: 32px;\n",
              "      padding: 0 0 0 0;\n",
              "      width: 32px;\n",
              "    }\n",
              "\n",
              "    .colab-df-convert:hover {\n",
              "      background-color: #E2EBFA;\n",
              "      box-shadow: 0px 1px 2px rgba(60, 64, 67, 0.3), 0px 1px 3px 1px rgba(60, 64, 67, 0.15);\n",
              "      fill: #174EA6;\n",
              "    }\n",
              "\n",
              "    .colab-df-buttons div {\n",
              "      margin-bottom: 4px;\n",
              "    }\n",
              "\n",
              "    [theme=dark] .colab-df-convert {\n",
              "      background-color: #3B4455;\n",
              "      fill: #D2E3FC;\n",
              "    }\n",
              "\n",
              "    [theme=dark] .colab-df-convert:hover {\n",
              "      background-color: #434B5C;\n",
              "      box-shadow: 0px 1px 3px 1px rgba(0, 0, 0, 0.15);\n",
              "      filter: drop-shadow(0px 1px 2px rgba(0, 0, 0, 0.3));\n",
              "      fill: #FFFFFF;\n",
              "    }\n",
              "  </style>\n",
              "\n",
              "    <script>\n",
              "      const buttonEl =\n",
              "        document.querySelector('#df-2a9a7d3b-0d32-47f8-84d9-41116ea4c146 button.colab-df-convert');\n",
              "      buttonEl.style.display =\n",
              "        google.colab.kernel.accessAllowed ? 'block' : 'none';\n",
              "\n",
              "      async function convertToInteractive(key) {\n",
              "        const element = document.querySelector('#df-2a9a7d3b-0d32-47f8-84d9-41116ea4c146');\n",
              "        const dataTable =\n",
              "          await google.colab.kernel.invokeFunction('convertToInteractive',\n",
              "                                                    [key], {});\n",
              "        if (!dataTable) return;\n",
              "\n",
              "        const docLinkHtml = 'Like what you see? Visit the ' +\n",
              "          '<a target=\"_blank\" href=https://colab.research.google.com/notebooks/data_table.ipynb>data table notebook</a>'\n",
              "          + ' to learn more about interactive tables.';\n",
              "        element.innerHTML = '';\n",
              "        dataTable['output_type'] = 'display_data';\n",
              "        await google.colab.output.renderOutput(dataTable, element);\n",
              "        const docLink = document.createElement('div');\n",
              "        docLink.innerHTML = docLinkHtml;\n",
              "        element.appendChild(docLink);\n",
              "      }\n",
              "    </script>\n",
              "  </div>\n",
              "\n",
              "\n",
              "<div id=\"df-fda3d750-fbe4-4c2d-86fa-8833d8d869b0\">\n",
              "  <button class=\"colab-df-quickchart\" onclick=\"quickchart('df-fda3d750-fbe4-4c2d-86fa-8833d8d869b0')\"\n",
              "            title=\"Suggest charts.\"\n",
              "            style=\"display:none;\">\n",
              "\n",
              "<svg xmlns=\"http://www.w3.org/2000/svg\" height=\"24px\"viewBox=\"0 0 24 24\"\n",
              "     width=\"24px\">\n",
              "    <g>\n",
              "        <path d=\"M19 3H5c-1.1 0-2 .9-2 2v14c0 1.1.9 2 2 2h14c1.1 0 2-.9 2-2V5c0-1.1-.9-2-2-2zM9 17H7v-7h2v7zm4 0h-2V7h2v10zm4 0h-2v-4h2v4z\"/>\n",
              "    </g>\n",
              "</svg>\n",
              "  </button>\n",
              "\n",
              "<style>\n",
              "  .colab-df-quickchart {\n",
              "    background-color: #E8F0FE;\n",
              "    border: none;\n",
              "    border-radius: 50%;\n",
              "    cursor: pointer;\n",
              "    display: none;\n",
              "    fill: #1967D2;\n",
              "    height: 32px;\n",
              "    padding: 0 0 0 0;\n",
              "    width: 32px;\n",
              "  }\n",
              "\n",
              "  .colab-df-quickchart:hover {\n",
              "    background-color: #E2EBFA;\n",
              "    box-shadow: 0px 1px 2px rgba(60, 64, 67, 0.3), 0px 1px 3px 1px rgba(60, 64, 67, 0.15);\n",
              "    fill: #174EA6;\n",
              "  }\n",
              "\n",
              "  [theme=dark] .colab-df-quickchart {\n",
              "    background-color: #3B4455;\n",
              "    fill: #D2E3FC;\n",
              "  }\n",
              "\n",
              "  [theme=dark] .colab-df-quickchart:hover {\n",
              "    background-color: #434B5C;\n",
              "    box-shadow: 0px 1px 3px 1px rgba(0, 0, 0, 0.15);\n",
              "    filter: drop-shadow(0px 1px 2px rgba(0, 0, 0, 0.3));\n",
              "    fill: #FFFFFF;\n",
              "  }\n",
              "</style>\n",
              "\n",
              "  <script>\n",
              "    async function quickchart(key) {\n",
              "      const charts = await google.colab.kernel.invokeFunction(\n",
              "          'suggestCharts', [key], {});\n",
              "    }\n",
              "    (() => {\n",
              "      let quickchartButtonEl =\n",
              "        document.querySelector('#df-fda3d750-fbe4-4c2d-86fa-8833d8d869b0 button');\n",
              "      quickchartButtonEl.style.display =\n",
              "        google.colab.kernel.accessAllowed ? 'block' : 'none';\n",
              "    })();\n",
              "  </script>\n",
              "</div>\n",
              "    </div>\n",
              "  </div>\n"
            ]
          },
          "metadata": {},
          "execution_count": 9
        }
      ]
    },
    {
      "cell_type": "code",
      "source": [
        "# loop is used to convert all frnech text in df into english with help of \"translate_fr_en\" which is instance of pipeline.\n",
        "translator_list = []\n",
        "for i in df['French Description']:\n",
        "  translated_text_fr_en = translate_fr_en(i)\n",
        "  translator_list.append(translated_text_fr_en)"
      ],
      "metadata": {
        "id": "dT1B28LGJ7pA"
      },
      "execution_count": 10,
      "outputs": []
    },
    {
      "cell_type": "code",
      "source": [
        "# output of the list is but i has some extara information and i need onlyt the text.\n",
        "translator_list"
      ],
      "metadata": {
        "colab": {
          "base_uri": "https://localhost:8080/"
        },
        "id": "hKlyFVITK1Up",
        "outputId": "f67989ff-01b8-4dd3-a961-0ee022e320e4"
      },
      "execution_count": 11,
      "outputs": [
        {
          "output_type": "execute_result",
          "data": {
            "text/plain": [
              "[[{'translation_text': 'Bronchitis is the inflammation of the mucous membrane of the large airways called bronchi in the lungs.'}],\n",
              " [{'translation_text': 'Artificial intelligence (AI) refers to the simulation of human cognitive processes by machines.'}],\n",
              " [{'translation_text': 'Climate change is the result of the accumulation of greenhouse gases in the atmosphere, causing climate change.'}],\n",
              " [{'translation_text': 'Globalization refers to the growing interconnection of global economies, cultures and societies.'}],\n",
              " [{'translation_text': 'Type 2 diabetes is a chronic disease characterized by insulin resistance and high levels of glucose in the blood.'}],\n",
              " [{'translation_text': 'Solar energy is produced by converting sunlight into electricity using solar panels.'}],\n",
              " [{'translation_text': 'The Industrial Revolution marked a period of major transformation of production, from artisanal methods to manufacturing.'}],\n",
              " [{'translation_text': 'Sustainable development aims to meet the needs of the present without compromising resources for future generations.'}],\n",
              " [{'translation_text': 'The Cold War was a period of geopolitical tension between the United States and the Soviet Union after the Second World War.'}],\n",
              " [{'translation_text': 'Cancer is a disease characterized by uncontrolled growth of abnormal cells in the body.'}],\n",
              " [{'translation_text': 'Renewable energies, such as wind and hydro, are environmentally friendly and sustainable sources of energy.'}],\n",
              " [{'translation_text': 'French classical literature includes iconic works by Molière, Voltaire, and Victor Hugo.'}],\n",
              " [{'translation_text': 'Democracy is a political system in which power is exercised by the people, often through elections.'}],\n",
              " [{'translation_text': 'The economic crisis of 2008 has had global repercussions, affecting financial markets and employment.'}],\n",
              " [{'translation_text': 'Popular culture encompasses the cultural elements preferred by the majority, such as music, films and fashion.'}]]"
            ]
          },
          "metadata": {},
          "execution_count": 11
        }
      ]
    },
    {
      "cell_type": "code",
      "source": [
        "# here i used two loop to extract the specific infor mation on my requirdement.\n",
        "fliter_list= []\n",
        "for i in translator_list:\n",
        "  for x in i:\n",
        "    fliter_list.append(x[\"translation_text\"])"
      ],
      "metadata": {
        "id": "qaY5iZttLXnG"
      },
      "execution_count": 12,
      "outputs": []
    },
    {
      "cell_type": "code",
      "source": [
        "# now this filter list has transalted text in engish from french language.\n",
        "fliter_list"
      ],
      "metadata": {
        "colab": {
          "base_uri": "https://localhost:8080/"
        },
        "id": "4_HiZ-XALhhI",
        "outputId": "92595c54-7c8f-4591-d0aa-41a06edc5bb5"
      },
      "execution_count": 13,
      "outputs": [
        {
          "output_type": "execute_result",
          "data": {
            "text/plain": [
              "['Bronchitis is the inflammation of the mucous membrane of the large airways called bronchi in the lungs.',\n",
              " 'Artificial intelligence (AI) refers to the simulation of human cognitive processes by machines.',\n",
              " 'Climate change is the result of the accumulation of greenhouse gases in the atmosphere, causing climate change.',\n",
              " 'Globalization refers to the growing interconnection of global economies, cultures and societies.',\n",
              " 'Type 2 diabetes is a chronic disease characterized by insulin resistance and high levels of glucose in the blood.',\n",
              " 'Solar energy is produced by converting sunlight into electricity using solar panels.',\n",
              " 'The Industrial Revolution marked a period of major transformation of production, from artisanal methods to manufacturing.',\n",
              " 'Sustainable development aims to meet the needs of the present without compromising resources for future generations.',\n",
              " 'The Cold War was a period of geopolitical tension between the United States and the Soviet Union after the Second World War.',\n",
              " 'Cancer is a disease characterized by uncontrolled growth of abnormal cells in the body.',\n",
              " 'Renewable energies, such as wind and hydro, are environmentally friendly and sustainable sources of energy.',\n",
              " 'French classical literature includes iconic works by Molière, Voltaire, and Victor Hugo.',\n",
              " 'Democracy is a political system in which power is exercised by the people, often through elections.',\n",
              " 'The economic crisis of 2008 has had global repercussions, affecting financial markets and employment.',\n",
              " 'Popular culture encompasses the cultural elements preferred by the majority, such as music, films and fashion.']"
            ]
          },
          "metadata": {},
          "execution_count": 13
        }
      ]
    },
    {
      "cell_type": "code",
      "source": [
        "# finally adding thelist into the atual data frame.\n",
        "df[\"Translated English Description\"] = fliter_list"
      ],
      "metadata": {
        "id": "SriVGrezLOUV"
      },
      "execution_count": 14,
      "outputs": []
    },
    {
      "cell_type": "code",
      "source": [
        "# FINAL DATA FRAME.\n",
        "df"
      ],
      "metadata": {
        "colab": {
          "base_uri": "https://localhost:8080/",
          "height": 710
        },
        "id": "8bQ4XX_kLo8I",
        "outputId": "e3f939fb-868a-4673-a43f-3c466dc8e981"
      },
      "execution_count": 15,
      "outputs": [
        {
          "output_type": "execute_result",
          "data": {
            "text/plain": [
              "                                   French Description  \\\n",
              "0   La bronchite est l'inflammation de la muqueuse...   \n",
              "1   L'intelligence artificielle (IA) fait référenc...   \n",
              "2   Le changement climatique résulte de l'accumula...   \n",
              "3   La mondialisation désigne l'interconnexion cro...   \n",
              "4   Le diabète de type 2 est une maladie chronique...   \n",
              "5   L'énergie solaire est produite par la conversi...   \n",
              "6   La Révolution industrielle a marqué une périod...   \n",
              "7   Le développement durable vise à répondre aux b...   \n",
              "8   La guerre froide était une période de tension ...   \n",
              "9   Le cancer est une maladie caractérisée par la ...   \n",
              "10  Les énergies renouvelables, telles que l'éolie...   \n",
              "11  La littérature classique française comprend de...   \n",
              "12  La démocratie est un système politique dans le...   \n",
              "13  La crise économique de 2008 a entraîné des rép...   \n",
              "14  La culture populaire englobe les éléments cult...   \n",
              "\n",
              "                       Translated English Description  \n",
              "0   Bronchitis is the inflammation of the mucous m...  \n",
              "1   Artificial intelligence (AI) refers to the sim...  \n",
              "2   Climate change is the result of the accumulati...  \n",
              "3   Globalization refers to the growing interconne...  \n",
              "4   Type 2 diabetes is a chronic disease character...  \n",
              "5   Solar energy is produced by converting sunligh...  \n",
              "6   The Industrial Revolution marked a period of m...  \n",
              "7   Sustainable development aims to meet the needs...  \n",
              "8   The Cold War was a period of geopolitical tens...  \n",
              "9   Cancer is a disease characterized by uncontrol...  \n",
              "10  Renewable energies, such as wind and hydro, ar...  \n",
              "11  French classical literature includes iconic wo...  \n",
              "12  Democracy is a political system in which power...  \n",
              "13  The economic crisis of 2008 has had global rep...  \n",
              "14  Popular culture encompasses the cultural eleme...  "
            ],
            "text/html": [
              "\n",
              "  <div id=\"df-1ac6f891-8135-4a66-bc08-dd0a3befdf33\" class=\"colab-df-container\">\n",
              "    <div>\n",
              "<style scoped>\n",
              "    .dataframe tbody tr th:only-of-type {\n",
              "        vertical-align: middle;\n",
              "    }\n",
              "\n",
              "    .dataframe tbody tr th {\n",
              "        vertical-align: top;\n",
              "    }\n",
              "\n",
              "    .dataframe thead th {\n",
              "        text-align: right;\n",
              "    }\n",
              "</style>\n",
              "<table border=\"1\" class=\"dataframe\">\n",
              "  <thead>\n",
              "    <tr style=\"text-align: right;\">\n",
              "      <th></th>\n",
              "      <th>French Description</th>\n",
              "      <th>Translated English Description</th>\n",
              "    </tr>\n",
              "  </thead>\n",
              "  <tbody>\n",
              "    <tr>\n",
              "      <th>0</th>\n",
              "      <td>La bronchite est l'inflammation de la muqueuse...</td>\n",
              "      <td>Bronchitis is the inflammation of the mucous m...</td>\n",
              "    </tr>\n",
              "    <tr>\n",
              "      <th>1</th>\n",
              "      <td>L'intelligence artificielle (IA) fait référenc...</td>\n",
              "      <td>Artificial intelligence (AI) refers to the sim...</td>\n",
              "    </tr>\n",
              "    <tr>\n",
              "      <th>2</th>\n",
              "      <td>Le changement climatique résulte de l'accumula...</td>\n",
              "      <td>Climate change is the result of the accumulati...</td>\n",
              "    </tr>\n",
              "    <tr>\n",
              "      <th>3</th>\n",
              "      <td>La mondialisation désigne l'interconnexion cro...</td>\n",
              "      <td>Globalization refers to the growing interconne...</td>\n",
              "    </tr>\n",
              "    <tr>\n",
              "      <th>4</th>\n",
              "      <td>Le diabète de type 2 est une maladie chronique...</td>\n",
              "      <td>Type 2 diabetes is a chronic disease character...</td>\n",
              "    </tr>\n",
              "    <tr>\n",
              "      <th>5</th>\n",
              "      <td>L'énergie solaire est produite par la conversi...</td>\n",
              "      <td>Solar energy is produced by converting sunligh...</td>\n",
              "    </tr>\n",
              "    <tr>\n",
              "      <th>6</th>\n",
              "      <td>La Révolution industrielle a marqué une périod...</td>\n",
              "      <td>The Industrial Revolution marked a period of m...</td>\n",
              "    </tr>\n",
              "    <tr>\n",
              "      <th>7</th>\n",
              "      <td>Le développement durable vise à répondre aux b...</td>\n",
              "      <td>Sustainable development aims to meet the needs...</td>\n",
              "    </tr>\n",
              "    <tr>\n",
              "      <th>8</th>\n",
              "      <td>La guerre froide était une période de tension ...</td>\n",
              "      <td>The Cold War was a period of geopolitical tens...</td>\n",
              "    </tr>\n",
              "    <tr>\n",
              "      <th>9</th>\n",
              "      <td>Le cancer est une maladie caractérisée par la ...</td>\n",
              "      <td>Cancer is a disease characterized by uncontrol...</td>\n",
              "    </tr>\n",
              "    <tr>\n",
              "      <th>10</th>\n",
              "      <td>Les énergies renouvelables, telles que l'éolie...</td>\n",
              "      <td>Renewable energies, such as wind and hydro, ar...</td>\n",
              "    </tr>\n",
              "    <tr>\n",
              "      <th>11</th>\n",
              "      <td>La littérature classique française comprend de...</td>\n",
              "      <td>French classical literature includes iconic wo...</td>\n",
              "    </tr>\n",
              "    <tr>\n",
              "      <th>12</th>\n",
              "      <td>La démocratie est un système politique dans le...</td>\n",
              "      <td>Democracy is a political system in which power...</td>\n",
              "    </tr>\n",
              "    <tr>\n",
              "      <th>13</th>\n",
              "      <td>La crise économique de 2008 a entraîné des rép...</td>\n",
              "      <td>The economic crisis of 2008 has had global rep...</td>\n",
              "    </tr>\n",
              "    <tr>\n",
              "      <th>14</th>\n",
              "      <td>La culture populaire englobe les éléments cult...</td>\n",
              "      <td>Popular culture encompasses the cultural eleme...</td>\n",
              "    </tr>\n",
              "  </tbody>\n",
              "</table>\n",
              "</div>\n",
              "    <div class=\"colab-df-buttons\">\n",
              "\n",
              "  <div class=\"colab-df-container\">\n",
              "    <button class=\"colab-df-convert\" onclick=\"convertToInteractive('df-1ac6f891-8135-4a66-bc08-dd0a3befdf33')\"\n",
              "            title=\"Convert this dataframe to an interactive table.\"\n",
              "            style=\"display:none;\">\n",
              "\n",
              "  <svg xmlns=\"http://www.w3.org/2000/svg\" height=\"24px\" viewBox=\"0 -960 960 960\">\n",
              "    <path d=\"M120-120v-720h720v720H120Zm60-500h600v-160H180v160Zm220 220h160v-160H400v160Zm0 220h160v-160H400v160ZM180-400h160v-160H180v160Zm440 0h160v-160H620v160ZM180-180h160v-160H180v160Zm440 0h160v-160H620v160Z\"/>\n",
              "  </svg>\n",
              "    </button>\n",
              "\n",
              "  <style>\n",
              "    .colab-df-container {\n",
              "      display:flex;\n",
              "      gap: 12px;\n",
              "    }\n",
              "\n",
              "    .colab-df-convert {\n",
              "      background-color: #E8F0FE;\n",
              "      border: none;\n",
              "      border-radius: 50%;\n",
              "      cursor: pointer;\n",
              "      display: none;\n",
              "      fill: #1967D2;\n",
              "      height: 32px;\n",
              "      padding: 0 0 0 0;\n",
              "      width: 32px;\n",
              "    }\n",
              "\n",
              "    .colab-df-convert:hover {\n",
              "      background-color: #E2EBFA;\n",
              "      box-shadow: 0px 1px 2px rgba(60, 64, 67, 0.3), 0px 1px 3px 1px rgba(60, 64, 67, 0.15);\n",
              "      fill: #174EA6;\n",
              "    }\n",
              "\n",
              "    .colab-df-buttons div {\n",
              "      margin-bottom: 4px;\n",
              "    }\n",
              "\n",
              "    [theme=dark] .colab-df-convert {\n",
              "      background-color: #3B4455;\n",
              "      fill: #D2E3FC;\n",
              "    }\n",
              "\n",
              "    [theme=dark] .colab-df-convert:hover {\n",
              "      background-color: #434B5C;\n",
              "      box-shadow: 0px 1px 3px 1px rgba(0, 0, 0, 0.15);\n",
              "      filter: drop-shadow(0px 1px 2px rgba(0, 0, 0, 0.3));\n",
              "      fill: #FFFFFF;\n",
              "    }\n",
              "  </style>\n",
              "\n",
              "    <script>\n",
              "      const buttonEl =\n",
              "        document.querySelector('#df-1ac6f891-8135-4a66-bc08-dd0a3befdf33 button.colab-df-convert');\n",
              "      buttonEl.style.display =\n",
              "        google.colab.kernel.accessAllowed ? 'block' : 'none';\n",
              "\n",
              "      async function convertToInteractive(key) {\n",
              "        const element = document.querySelector('#df-1ac6f891-8135-4a66-bc08-dd0a3befdf33');\n",
              "        const dataTable =\n",
              "          await google.colab.kernel.invokeFunction('convertToInteractive',\n",
              "                                                    [key], {});\n",
              "        if (!dataTable) return;\n",
              "\n",
              "        const docLinkHtml = 'Like what you see? Visit the ' +\n",
              "          '<a target=\"_blank\" href=https://colab.research.google.com/notebooks/data_table.ipynb>data table notebook</a>'\n",
              "          + ' to learn more about interactive tables.';\n",
              "        element.innerHTML = '';\n",
              "        dataTable['output_type'] = 'display_data';\n",
              "        await google.colab.output.renderOutput(dataTable, element);\n",
              "        const docLink = document.createElement('div');\n",
              "        docLink.innerHTML = docLinkHtml;\n",
              "        element.appendChild(docLink);\n",
              "      }\n",
              "    </script>\n",
              "  </div>\n",
              "\n",
              "\n",
              "<div id=\"df-7e1afebe-498d-4eca-8b02-8c7b17bc014a\">\n",
              "  <button class=\"colab-df-quickchart\" onclick=\"quickchart('df-7e1afebe-498d-4eca-8b02-8c7b17bc014a')\"\n",
              "            title=\"Suggest charts.\"\n",
              "            style=\"display:none;\">\n",
              "\n",
              "<svg xmlns=\"http://www.w3.org/2000/svg\" height=\"24px\"viewBox=\"0 0 24 24\"\n",
              "     width=\"24px\">\n",
              "    <g>\n",
              "        <path d=\"M19 3H5c-1.1 0-2 .9-2 2v14c0 1.1.9 2 2 2h14c1.1 0 2-.9 2-2V5c0-1.1-.9-2-2-2zM9 17H7v-7h2v7zm4 0h-2V7h2v10zm4 0h-2v-4h2v4z\"/>\n",
              "    </g>\n",
              "</svg>\n",
              "  </button>\n",
              "\n",
              "<style>\n",
              "  .colab-df-quickchart {\n",
              "    background-color: #E8F0FE;\n",
              "    border: none;\n",
              "    border-radius: 50%;\n",
              "    cursor: pointer;\n",
              "    display: none;\n",
              "    fill: #1967D2;\n",
              "    height: 32px;\n",
              "    padding: 0 0 0 0;\n",
              "    width: 32px;\n",
              "  }\n",
              "\n",
              "  .colab-df-quickchart:hover {\n",
              "    background-color: #E2EBFA;\n",
              "    box-shadow: 0px 1px 2px rgba(60, 64, 67, 0.3), 0px 1px 3px 1px rgba(60, 64, 67, 0.15);\n",
              "    fill: #174EA6;\n",
              "  }\n",
              "\n",
              "  [theme=dark] .colab-df-quickchart {\n",
              "    background-color: #3B4455;\n",
              "    fill: #D2E3FC;\n",
              "  }\n",
              "\n",
              "  [theme=dark] .colab-df-quickchart:hover {\n",
              "    background-color: #434B5C;\n",
              "    box-shadow: 0px 1px 3px 1px rgba(0, 0, 0, 0.15);\n",
              "    filter: drop-shadow(0px 1px 2px rgba(0, 0, 0, 0.3));\n",
              "    fill: #FFFFFF;\n",
              "  }\n",
              "</style>\n",
              "\n",
              "  <script>\n",
              "    async function quickchart(key) {\n",
              "      const charts = await google.colab.kernel.invokeFunction(\n",
              "          'suggestCharts', [key], {});\n",
              "    }\n",
              "    (() => {\n",
              "      let quickchartButtonEl =\n",
              "        document.querySelector('#df-7e1afebe-498d-4eca-8b02-8c7b17bc014a button');\n",
              "      quickchartButtonEl.style.display =\n",
              "        google.colab.kernel.accessAllowed ? 'block' : 'none';\n",
              "    })();\n",
              "  </script>\n",
              "</div>\n",
              "    </div>\n",
              "  </div>\n"
            ]
          },
          "metadata": {},
          "execution_count": 15
        }
      ]
    },
    {
      "cell_type": "code",
      "source": [],
      "metadata": {
        "id": "yrvF_1_iLpdf"
      },
      "execution_count": 13,
      "outputs": []
    }
  ]
}